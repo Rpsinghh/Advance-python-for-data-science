{
 "cells": [
  {
   "cell_type": "code",
   "execution_count": 1,
   "id": "5aa8cd19",
   "metadata": {},
   "outputs": [],
   "source": [
    "# The slowness of loops"
   ]
  },
  {
   "cell_type": "code",
   "execution_count": 4,
   "id": "53182d23",
   "metadata": {},
   "outputs": [
    {
     "name": "stdout",
     "output_type": "stream",
     "text": [
      "[6 1 4 4 8]\n"
     ]
    },
    {
     "data": {
      "text/plain": [
       "array([0.16666667, 1.        , 0.25      , 0.25      , 0.125     ])"
      ]
     },
     "execution_count": 4,
     "metadata": {},
     "output_type": "execute_result"
    }
   ],
   "source": [
    "import numpy as np\n",
    "np.random.seed(0)\n",
    "\n",
    "def compute_reciprocals(values):\n",
    "    output=np.empty(len(values))\n",
    "    for i in range(len(values)):\n",
    "        output[i]=1.0/values[i] \n",
    "    return output\n",
    "values=np.random.randint(1,10,size=5)\n",
    "print(values)\n",
    "compute_reciprocals(values)"
   ]
  },
  {
   "cell_type": "code",
   "execution_count": 10,
   "id": "a8c822e3",
   "metadata": {},
   "outputs": [
    {
     "data": {
      "text/plain": [
       "1000000"
      ]
     },
     "execution_count": 10,
     "metadata": {},
     "output_type": "execute_result"
    }
   ],
   "source": [
    "# %timeit profiling and Timing code\n",
    "a=np.random.randint(1,100,1000000)\n",
    "a\n",
    "# for checking time \n",
    "compute_reciprocals(a).size # take a in function"
   ]
  },
  {
   "cell_type": "code",
   "execution_count": 11,
   "id": "2f1060c0",
   "metadata": {},
   "outputs": [
    {
     "name": "stdout",
     "output_type": "stream",
     "text": [
      "[0.03846154 0.02564103 0.02631579 ... 0.02222222 0.01388889 0.02325581]\n",
      "[0.03846154 0.02564103 0.02631579 ... 0.02222222 0.01388889 0.02325581]\n"
     ]
    }
   ],
   "source": [
    "print(compute_reciprocals(a))\n",
    "print(1.0/a)"
   ]
  },
  {
   "cell_type": "code",
   "execution_count": 14,
   "id": "1f1c5907",
   "metadata": {},
   "outputs": [
    {
     "name": "stdout",
     "output_type": "stream",
     "text": [
      "2.6 ms ± 26.9 µs per loop (mean ± std. dev. of 7 runs, 100 loops each)\n"
     ]
    }
   ],
   "source": [
    "%timeit (1.0/a)"
   ]
  },
  {
   "cell_type": "code",
   "execution_count": 15,
   "id": "54c2ac94",
   "metadata": {},
   "outputs": [
    {
     "name": "stdout",
     "output_type": "stream",
     "text": [
      "2.23 s ± 32.7 ms per loop (mean ± std. dev. of 7 runs, 1 loop each)\n"
     ]
    }
   ],
   "source": [
    "%timeit compute_reciprocals(a)"
   ]
  },
  {
   "cell_type": "code",
   "execution_count": 16,
   "id": "df8ba7eb",
   "metadata": {},
   "outputs": [
    {
     "data": {
      "text/plain": [
       "array([26, 39, 38, ..., 45, 72, 43])"
      ]
     },
     "execution_count": 16,
     "metadata": {},
     "output_type": "execute_result"
    }
   ],
   "source": [
    "a"
   ]
  },
  {
   "cell_type": "code",
   "execution_count": 17,
   "id": "3181441d",
   "metadata": {},
   "outputs": [
    {
     "data": {
      "text/plain": [
       "array([0.        , 0.5       , 0.66666667, 0.75      , 0.8       ])"
      ]
     },
     "execution_count": 17,
     "metadata": {},
     "output_type": "execute_result"
    }
   ],
   "source": [
    "np.arange(5)/np.arange(1,6) # 0,1,2,3,4/1,2,3,4,5"
   ]
  },
  {
   "cell_type": "code",
   "execution_count": 19,
   "id": "6c1e9d4e",
   "metadata": {},
   "outputs": [
    {
     "data": {
      "text/plain": [
       "array([[  1,   2,   4],\n",
       "       [  8,  16,  32],\n",
       "       [ 64, 128, 256]])"
      ]
     },
     "execution_count": 19,
     "metadata": {},
     "output_type": "execute_result"
    }
   ],
   "source": [
    "x=np.arange(9).reshape(3,3)\n",
    "2**x"
   ]
  },
  {
   "cell_type": "code",
   "execution_count": 20,
   "id": "c5c8a170",
   "metadata": {},
   "outputs": [
    {
     "data": {
      "text/plain": [
       "array([[0, 1, 2],\n",
       "       [3, 4, 5],\n",
       "       [6, 7, 8]])"
      ]
     },
     "execution_count": 20,
     "metadata": {},
     "output_type": "execute_result"
    }
   ],
   "source": [
    "x"
   ]
  },
  {
   "cell_type": "markdown",
   "id": "bc333591",
   "metadata": {},
   "source": [
    "# Arithmetic functions in arrays"
   ]
  },
  {
   "cell_type": "code",
   "execution_count": 21,
   "id": "cb8d1d28",
   "metadata": {},
   "outputs": [
    {
     "name": "stdout",
     "output_type": "stream",
     "text": [
      "x   = [0 1 2 3]\n",
      "x+5 = [5 6 7 8]\n",
      "x-5 = [-5 -4 -3 -2]\n",
      "x*2 = [0 2 4 6]\n",
      "x/2 = [0.  0.5 1.  1.5]\n",
      "x//2= [0 0 1 1]\n"
     ]
    }
   ],
   "source": [
    "x=np.arange(4)\n",
    "print('x   =',x)\n",
    "print('x+5 =',x+5)\n",
    "print('x-5 =',x-5)\n",
    "print('x*2 =',x*2)\n",
    "print('x/2 =',x/2)\n",
    "print('x//2=',x//2) "
   ]
  },
  {
   "cell_type": "code",
   "execution_count": 24,
   "id": "921fd5d2",
   "metadata": {},
   "outputs": [
    {
     "name": "stdout",
     "output_type": "stream",
     "text": [
      "x     = [0 1 2 3]\n",
      "-x    = [ 0 -1 -2 -3]\n",
      "x**2  = [0 1 4 9]\n",
      "x%2   = [0 1 0 1]\n"
     ]
    }
   ],
   "source": [
    "print('x     =',x)\n",
    "print('-x    =',-x)\n",
    "print('x**2  =',x**2)\n",
    "print('x%2   =',x%2)"
   ]
  },
  {
   "cell_type": "code",
   "execution_count": 25,
   "id": "4681db1c",
   "metadata": {},
   "outputs": [
    {
     "data": {
      "text/plain": [
       "array([1.  , 2.25, 4.  , 6.25])"
      ]
     },
     "execution_count": 25,
     "metadata": {},
     "output_type": "execute_result"
    }
   ],
   "source": [
    "(0.5*x + 1)**2"
   ]
  },
  {
   "cell_type": "code",
   "execution_count": 26,
   "id": "ec923efb",
   "metadata": {},
   "outputs": [
    {
     "data": {
      "text/plain": [
       "array([2, 3, 4, 5])"
      ]
     },
     "execution_count": 26,
     "metadata": {},
     "output_type": "execute_result"
    }
   ],
   "source": [
    "np.add(x,2)"
   ]
  },
  {
   "cell_type": "code",
   "execution_count": 27,
   "id": "dbcc15f7",
   "metadata": {},
   "outputs": [
    {
     "data": {
      "text/plain": [
       "array([0, 1, 2, 3])"
      ]
     },
     "execution_count": 27,
     "metadata": {},
     "output_type": "execute_result"
    }
   ],
   "source": [
    "x"
   ]
  },
  {
   "cell_type": "code",
   "execution_count": 28,
   "id": "ccdf7bf2",
   "metadata": {},
   "outputs": [
    {
     "data": {
      "text/plain": [
       "array([-2, -1,  0,  1])"
      ]
     },
     "execution_count": 28,
     "metadata": {},
     "output_type": "execute_result"
    }
   ],
   "source": [
    "np.subtract(x,2)"
   ]
  },
  {
   "cell_type": "code",
   "execution_count": 29,
   "id": "76aad9cb",
   "metadata": {},
   "outputs": [
    {
     "data": {
      "text/plain": [
       "array([ 0, -1, -2, -3])"
      ]
     },
     "execution_count": 29,
     "metadata": {},
     "output_type": "execute_result"
    }
   ],
   "source": [
    "np.negative(x)"
   ]
  },
  {
   "cell_type": "code",
   "execution_count": 30,
   "id": "73a6aa5e",
   "metadata": {},
   "outputs": [
    {
     "data": {
      "text/plain": [
       "array([0, 2, 4, 6])"
      ]
     },
     "execution_count": 30,
     "metadata": {},
     "output_type": "execute_result"
    }
   ],
   "source": [
    "np.multiply(x,2)"
   ]
  },
  {
   "cell_type": "code",
   "execution_count": 31,
   "id": "f9c366cb",
   "metadata": {},
   "outputs": [
    {
     "data": {
      "text/plain": [
       "array([0. , 0.2, 0.4, 0.6])"
      ]
     },
     "execution_count": 31,
     "metadata": {},
     "output_type": "execute_result"
    }
   ],
   "source": [
    "np.divide(x,5)"
   ]
  },
  {
   "cell_type": "code",
   "execution_count": 33,
   "id": "5a97bd3b",
   "metadata": {},
   "outputs": [
    {
     "data": {
      "text/plain": [
       "array([0, 0, 1, 1])"
      ]
     },
     "execution_count": 33,
     "metadata": {},
     "output_type": "execute_result"
    }
   ],
   "source": [
    "np.floor_divide(x,2)"
   ]
  },
  {
   "cell_type": "code",
   "execution_count": 34,
   "id": "cef5843d",
   "metadata": {},
   "outputs": [
    {
     "data": {
      "text/plain": [
       "array([ 0,  1,  8, 27])"
      ]
     },
     "execution_count": 34,
     "metadata": {},
     "output_type": "execute_result"
    }
   ],
   "source": [
    "np.power(x,3)"
   ]
  },
  {
   "cell_type": "code",
   "execution_count": 35,
   "id": "4ff7f758",
   "metadata": {},
   "outputs": [
    {
     "data": {
      "text/plain": [
       "array([0, 1, 0, 1])"
      ]
     },
     "execution_count": 35,
     "metadata": {},
     "output_type": "execute_result"
    }
   ],
   "source": [
    "np.mod(x,2)"
   ]
  },
  {
   "cell_type": "markdown",
   "id": "5698d5bf",
   "metadata": {},
   "source": [
    "# Absolute Value"
   ]
  },
  {
   "cell_type": "code",
   "execution_count": 36,
   "id": "f4c59cf5",
   "metadata": {},
   "outputs": [
    {
     "data": {
      "text/plain": [
       "array([2, 1, 0, 1, 2])"
      ]
     },
     "execution_count": 36,
     "metadata": {},
     "output_type": "execute_result"
    }
   ],
   "source": [
    "x=np.array([-2,-1,0,1,2])\n",
    "abs(x) # absolute will give you only positive values"
   ]
  },
  {
   "cell_type": "code",
   "execution_count": 37,
   "id": "17d51ddb",
   "metadata": {},
   "outputs": [
    {
     "data": {
      "text/plain": [
       "array([2, 1, 0, 1, 2])"
      ]
     },
     "execution_count": 37,
     "metadata": {},
     "output_type": "execute_result"
    }
   ],
   "source": [
    "# another way of absolute\n",
    "np.absolute(x)"
   ]
  },
  {
   "cell_type": "code",
   "execution_count": 38,
   "id": "e4dc9e54",
   "metadata": {},
   "outputs": [
    {
     "data": {
      "text/plain": [
       "array([2, 1, 0, 1, 2])"
      ]
     },
     "execution_count": 38,
     "metadata": {},
     "output_type": "execute_result"
    }
   ],
   "source": [
    "# third method of absolute\n",
    "np.abs(x)"
   ]
  },
  {
   "cell_type": "code",
   "execution_count": 39,
   "id": "6ae62bd7",
   "metadata": {},
   "outputs": [
    {
     "data": {
      "text/plain": [
       "array([5., 5., 2., 1.])"
      ]
     },
     "execution_count": 39,
     "metadata": {},
     "output_type": "execute_result"
    }
   ],
   "source": [
    "x=np.array([3-4j,4-3j,2+0j,0+1j])\n",
    "np.abs(x)"
   ]
  },
  {
   "cell_type": "code",
   "execution_count": 44,
   "id": "50d3d40e",
   "metadata": {},
   "outputs": [
    {
     "data": {
      "text/plain": [
       "array([4.        , 3.16227766])"
      ]
     },
     "execution_count": 44,
     "metadata": {},
     "output_type": "execute_result"
    }
   ],
   "source": [
    "y=np.array([-4j,3+1j])\n",
    "np.abs(y)"
   ]
  },
  {
   "cell_type": "markdown",
   "id": "8521165f",
   "metadata": {},
   "source": [
    "# Trignometric functions"
   ]
  },
  {
   "cell_type": "code",
   "execution_count": 46,
   "id": "10385ad2",
   "metadata": {},
   "outputs": [
    {
     "data": {
      "text/plain": [
       "array([0.        , 1.57079633, 3.14159265])"
      ]
     },
     "execution_count": 46,
     "metadata": {},
     "output_type": "execute_result"
    }
   ],
   "source": [
    "theta=np.linspace(0,np.pi,3) # np.pi is 3.147128 somthing\n",
    "theta"
   ]
  },
  {
   "cell_type": "code",
   "execution_count": 48,
   "id": "6c2184ab",
   "metadata": {},
   "outputs": [
    {
     "name": "stdout",
     "output_type": "stream",
     "text": [
      "3\n",
      "[0.         1.57079633 3.14159265]\n",
      "sin function:  [0.0000000e+00 1.0000000e+00 1.2246468e-16]\n",
      "cos function:  [ 1.000000e+00  6.123234e-17 -1.000000e+00]\n",
      "tan function:  [ 0.00000000e+00  1.63312394e+16 -1.22464680e-16]\n"
     ]
    }
   ],
   "source": [
    "print(theta.size)\n",
    "print(theta)\n",
    "print('sin function: ',np.sin(theta))\n",
    "print('cos function: ',np.cos(theta))\n",
    "print('tan function: ',np.tan(theta))"
   ]
  },
  {
   "cell_type": "code",
   "execution_count": 49,
   "id": "c6685031",
   "metadata": {},
   "outputs": [
    {
     "name": "stdout",
     "output_type": "stream",
     "text": [
      "x      = [-1, 0, 1]\n",
      "arcsin(x) = [-1.57079633  0.          1.57079633]\n",
      "arccos(x) = [3.14159265 1.57079633 0.        ]\n",
      "arctan(x) = [-0.78539816  0.          0.78539816]\n"
     ]
    }
   ],
   "source": [
    "# the reverse of sin,cos,tan i.e. cosec,sec,cot\n",
    "x=[-1,0,1]\n",
    "print('x      =',x)\n",
    "print('arcsin(x) =',np.arcsin(x))\n",
    "print('arccos(x) =',np.arccos(x))\n",
    "print('arctan(x) =',np.arctan(x))"
   ]
  },
  {
   "cell_type": "markdown",
   "id": "7957266d",
   "metadata": {},
   "source": [
    "# Exponents and logarithms"
   ]
  },
  {
   "cell_type": "code",
   "execution_count": 54,
   "id": "e2a1a139",
   "metadata": {},
   "outputs": [
    {
     "name": "stdout",
     "output_type": "stream",
     "text": [
      "x   = [1, 2, 3]\n",
      "e^x = [ 2.71828183  7.3890561  20.08553692]\n",
      "2^x = [2. 4. 8.]\n",
      "3^x = [ 3  9 27]\n"
     ]
    }
   ],
   "source": [
    "x=[1,2,3]\n",
    "print('x   =',x)\n",
    "print('e^x =',np.exp(x))\n",
    "print('2^x =',np.exp2(x))\n",
    "print('3^x =',np.power(3,x))"
   ]
  },
  {
   "cell_type": "code",
   "execution_count": 56,
   "id": "2982d9ec",
   "metadata": {},
   "outputs": [
    {
     "name": "stdout",
     "output_type": "stream",
     "text": [
      "x= [1, 2, 4, 10]\n",
      "ln(x)= [0.         0.69314718 1.38629436 2.30258509]\n",
      "log2(x) [0.         1.         2.         3.32192809]\n",
      "log10(x) [0.         0.30103    0.60205999 1.        ]\n"
     ]
    }
   ],
   "source": [
    "# The inverse of the exponentials is logarithms\n",
    "x=[1,2,4,10]\n",
    "print('x=',x)\n",
    "print('ln(x)=',np.log(x))\n",
    "print('log2(x)',np.log2(x))\n",
    "print('log10(x)',np.log10(x))"
   ]
  },
  {
   "cell_type": "code",
   "execution_count": 61,
   "id": "c4828000",
   "metadata": {},
   "outputs": [
    {
     "name": "stdout",
     "output_type": "stream",
     "text": [
      "[0.         0.0010005  0.01005017 0.10517092]\n",
      "[1.         1.0010005  1.01005017 1.10517092]\n",
      "[0.         0.0009995  0.00995033 0.09531018]\n"
     ]
    }
   ],
   "source": [
    "x=[0,0.001,0.01,0.1]\n",
    "print(np.expm1(x))\n",
    "print(np.exp(x))\n",
    "print(np.log1p(x))"
   ]
  },
  {
   "cell_type": "markdown",
   "id": "c35ada5b",
   "metadata": {},
   "source": [
    "# specialized ufuncs"
   ]
  },
  {
   "cell_type": "code",
   "execution_count": 62,
   "id": "15425c64",
   "metadata": {},
   "outputs": [],
   "source": [
    "from scipy import special"
   ]
  },
  {
   "cell_type": "code",
   "execution_count": 63,
   "id": "e6c56033",
   "metadata": {},
   "outputs": [
    {
     "name": "stdout",
     "output_type": "stream",
     "text": [
      "[1.0000e+00 2.4000e+01 3.6288e+05]\n",
      "[ 0.          3.17805383 12.80182748]\n",
      "[0.5        0.03333333 0.00909091]\n",
      "[0.         0.32862676 0.67780119 0.84270079]\n",
      "[1.         0.67137324 0.32219881 0.15729921]\n",
      "[0.         0.27246271 0.73286908        inf]\n"
     ]
    }
   ],
   "source": [
    "# these are not used alot but we have to learn that also\n",
    "x=[1,5,10]\n",
    "print(special.gamma(x)) # gamma\n",
    "print(special.gammaln(x)) # log gamma\n",
    "print(special.beta(x,2)) # beta\n",
    "x=[0,0.3,0.7,1.0]\n",
    "print(special.erf(x))\n",
    "print(special.erfc(x))\n",
    "print(special.erfinv(x))"
   ]
  },
  {
   "cell_type": "markdown",
   "id": "c58c3f4e",
   "metadata": {},
   "source": [
    "# Aggregates"
   ]
  },
  {
   "cell_type": "code",
   "execution_count": 64,
   "id": "24729c0f",
   "metadata": {},
   "outputs": [
    {
     "data": {
      "text/plain": [
       "15"
      ]
     },
     "execution_count": 64,
     "metadata": {},
     "output_type": "execute_result"
    }
   ],
   "source": [
    "x=np.arange(1,6)\n",
    "np.add.reduce(x)\n",
    "# it gives you "
   ]
  },
  {
   "cell_type": "code",
   "execution_count": 67,
   "id": "1160afcc",
   "metadata": {},
   "outputs": [
    {
     "data": {
      "text/plain": [
       "120"
      ]
     },
     "execution_count": 67,
     "metadata": {},
     "output_type": "execute_result"
    }
   ],
   "source": [
    "np.multiply.reduce(x)"
   ]
  },
  {
   "cell_type": "code",
   "execution_count": 68,
   "id": "82107010",
   "metadata": {},
   "outputs": [
    {
     "data": {
      "text/plain": [
       "-13"
      ]
     },
     "execution_count": 68,
     "metadata": {},
     "output_type": "execute_result"
    }
   ],
   "source": [
    "np.subtract.reduce(x)"
   ]
  },
  {
   "cell_type": "code",
   "execution_count": 69,
   "id": "85a29f71",
   "metadata": {},
   "outputs": [
    {
     "data": {
      "text/plain": [
       "1"
      ]
     },
     "execution_count": 69,
     "metadata": {},
     "output_type": "execute_result"
    }
   ],
   "source": [
    "np.power.reduce(x)"
   ]
  },
  {
   "cell_type": "code",
   "execution_count": 71,
   "id": "65fac61f",
   "metadata": {},
   "outputs": [
    {
     "data": {
      "text/plain": [
       "array([ 1,  3,  6, 10, 15])"
      ]
     },
     "execution_count": 71,
     "metadata": {},
     "output_type": "execute_result"
    }
   ],
   "source": [
    "np.add.accumulate(x)"
   ]
  },
  {
   "cell_type": "code",
   "execution_count": 72,
   "id": "3ee1566b",
   "metadata": {},
   "outputs": [
    {
     "data": {
      "text/plain": [
       "array([  1,   2,   6,  24, 120])"
      ]
     },
     "execution_count": 72,
     "metadata": {},
     "output_type": "execute_result"
    }
   ],
   "source": [
    "np.multiply.accumulate(x)"
   ]
  },
  {
   "cell_type": "code",
   "execution_count": 73,
   "id": "e543ac4c",
   "metadata": {},
   "outputs": [
    {
     "data": {
      "text/plain": [
       "array([  1,  -1,  -4,  -8, -13])"
      ]
     },
     "execution_count": 73,
     "metadata": {},
     "output_type": "execute_result"
    }
   ],
   "source": [
    "np.subtract.accumulate(x)"
   ]
  },
  {
   "cell_type": "code",
   "execution_count": 77,
   "id": "881deca5",
   "metadata": {},
   "outputs": [
    {
     "data": {
      "text/plain": [
       "15"
      ]
     },
     "execution_count": 77,
     "metadata": {},
     "output_type": "execute_result"
    }
   ],
   "source": [
    "np.sum(x)"
   ]
  },
  {
   "cell_type": "code",
   "execution_count": 78,
   "id": "7bd247b7",
   "metadata": {},
   "outputs": [
    {
     "data": {
      "text/plain": [
       "120"
      ]
     },
     "execution_count": 78,
     "metadata": {},
     "output_type": "execute_result"
    }
   ],
   "source": [
    "np.prod(x)"
   ]
  },
  {
   "cell_type": "code",
   "execution_count": 79,
   "id": "097e9846",
   "metadata": {},
   "outputs": [
    {
     "data": {
      "text/plain": [
       "array([ 1,  3,  6, 10, 15])"
      ]
     },
     "execution_count": 79,
     "metadata": {},
     "output_type": "execute_result"
    }
   ],
   "source": [
    "np.cumsum(x)"
   ]
  },
  {
   "cell_type": "code",
   "execution_count": 80,
   "id": "2dfc0d3b",
   "metadata": {},
   "outputs": [
    {
     "data": {
      "text/plain": [
       "array([  1,   2,   6,  24, 120])"
      ]
     },
     "execution_count": 80,
     "metadata": {},
     "output_type": "execute_result"
    }
   ],
   "source": [
    "np.cumprod(x)"
   ]
  },
  {
   "cell_type": "markdown",
   "id": "9d3ad0a2",
   "metadata": {},
   "source": [
    "# Other products"
   ]
  },
  {
   "cell_type": "code",
   "execution_count": 83,
   "id": "bc8ad9bf",
   "metadata": {},
   "outputs": [
    {
     "name": "stdout",
     "output_type": "stream",
     "text": [
      "[10 11 12 13 14 15] [10 11 12 13 14 15]\n"
     ]
    },
    {
     "data": {
      "text/plain": [
       "array([[100, 110, 120, 130, 140, 150],\n",
       "       [110, 121, 132, 143, 154, 165],\n",
       "       [120, 132, 144, 156, 168, 180],\n",
       "       [130, 143, 156, 169, 182, 195],\n",
       "       [140, 154, 168, 182, 196, 210],\n",
       "       [150, 165, 180, 195, 210, 225]])"
      ]
     },
     "execution_count": 83,
     "metadata": {},
     "output_type": "execute_result"
    }
   ],
   "source": [
    "# the output of all pairs of two different inputs using the outer method.\n",
    "# This allows you in one line,to do things like create a multiplication table\n",
    "# simple outer gives you the multiplication table\n",
    "x=np.arange(10,16)\n",
    "print(x,x)\n",
    "np.multiply.outer(x,x)"
   ]
  },
  {
   "cell_type": "code",
   "execution_count": 84,
   "id": "fdf1164b",
   "metadata": {},
   "outputs": [
    {
     "data": {
      "text/plain": [
       "array([[20, 21, 22, 23, 24, 25],\n",
       "       [21, 22, 23, 24, 25, 26],\n",
       "       [22, 23, 24, 25, 26, 27],\n",
       "       [23, 24, 25, 26, 27, 28],\n",
       "       [24, 25, 26, 27, 28, 29],\n",
       "       [25, 26, 27, 28, 29, 30]])"
      ]
     },
     "execution_count": 84,
     "metadata": {},
     "output_type": "execute_result"
    }
   ],
   "source": [
    "np.add.outer(x,x)"
   ]
  },
  {
   "cell_type": "code",
   "execution_count": 85,
   "id": "be7693ea",
   "metadata": {},
   "outputs": [
    {
     "data": {
      "text/plain": [
       "array([[ 0, -1, -2, -3, -4, -5],\n",
       "       [ 1,  0, -1, -2, -3, -4],\n",
       "       [ 2,  1,  0, -1, -2, -3],\n",
       "       [ 3,  2,  1,  0, -1, -2],\n",
       "       [ 4,  3,  2,  1,  0, -1],\n",
       "       [ 5,  4,  3,  2,  1,  0]])"
      ]
     },
     "execution_count": 85,
     "metadata": {},
     "output_type": "execute_result"
    }
   ],
   "source": [
    "np.subtract.outer(x,x)"
   ]
  },
  {
   "cell_type": "code",
   "execution_count": 88,
   "id": "850d13ba",
   "metadata": {},
   "outputs": [
    {
     "data": {
      "text/plain": [
       "array([[100, 110, 120, 130, 140, 150],\n",
       "       [110, 121, 132, 143, 154, 165],\n",
       "       [120, 132, 144, 156, 168, 180],\n",
       "       [130, 143, 156, 169, 182, 195],\n",
       "       [140, 154, 168, 182, 196, 210],\n",
       "       [150, 165, 180, 195, 210, 225]])"
      ]
     },
     "execution_count": 88,
     "metadata": {},
     "output_type": "execute_result"
    }
   ],
   "source": [
    "np.outer(x,x)"
   ]
  },
  {
   "cell_type": "markdown",
   "id": "81e7472f",
   "metadata": {},
   "source": [
    "# AGGREGATIONS : Min,Max and Everything In Between"
   ]
  },
  {
   "cell_type": "markdown",
   "id": "f66762aa",
   "metadata": {},
   "source": [
    "Summing the Values in an Array"
   ]
  },
  {
   "cell_type": "code",
   "execution_count": 92,
   "id": "51fa8114",
   "metadata": {},
   "outputs": [
    {
     "name": "stdout",
     "output_type": "stream",
     "text": [
      "[0.30064656 0.93384393 0.97667117 0.74840483 0.66860587 0.01019825\n",
      " 0.78352359 0.0622139  0.26643124 0.66821936 0.45189116 0.8977625\n",
      " 0.91728243 0.07334986 0.31585269 0.78514443 0.38104556 0.51166757\n",
      " 0.36152865 0.96066126 0.70405741 0.87650408 0.97282002 0.80356173\n",
      " 0.23295371 0.81896489 0.08641425 0.60954582 0.23649596 0.98567264\n",
      " 0.76729906 0.41678955 0.48160967 0.83870237 0.10647632 0.15368458\n",
      " 0.39396785 0.37266234 0.93690855 0.36578786 0.81512378 0.67500614\n",
      " 0.30487866 0.49110179 0.71557995 0.44134506 0.80071998 0.69536672\n",
      " 0.57205498 0.76645329 0.06928146 0.64786423 0.41138625 0.96300906\n",
      " 0.43968672 0.02370658 0.91425162 0.01682651 0.99133295 0.35425617\n",
      " 0.36492151 0.75025301 0.48472777 0.68089235 0.31204702 0.05530746\n",
      " 0.37407046 0.14439615 0.62410346 0.05085563 0.49764918 0.3768096\n",
      " 0.20242061 0.37166659 0.31927188 0.42731957 0.49575927 0.96613433\n",
      " 0.05512907 0.25365465 0.82673268 0.61766577 0.29596724 0.40574281\n",
      " 0.27728587 0.42893966 0.5391321  0.64979623 0.52695261 0.7370355\n",
      " 0.82581779 0.96275451 0.99094598 0.52701433 0.58209132 0.42161482\n",
      " 0.35949022 0.08873097 0.32372225 0.48375364]\n"
     ]
    },
    {
     "data": {
      "text/plain": [
       "52.02363124567461"
      ]
     },
     "execution_count": 92,
     "metadata": {},
     "output_type": "execute_result"
    }
   ],
   "source": [
    "l=np.random.random(100)\n",
    "print(l)\n",
    "sum(l)"
   ]
  },
  {
   "cell_type": "code",
   "execution_count": 93,
   "id": "089aa110",
   "metadata": {},
   "outputs": [
    {
     "data": {
      "text/plain": [
       "52.0236312456746"
      ]
     },
     "execution_count": 93,
     "metadata": {},
     "output_type": "execute_result"
    }
   ],
   "source": [
    "np.sum(l)"
   ]
  },
  {
   "cell_type": "code",
   "execution_count": 97,
   "id": "b8bddc8c",
   "metadata": {},
   "outputs": [
    {
     "name": "stdout",
     "output_type": "stream",
     "text": [
      "91.1 ms ± 2.68 ms per loop (mean ± std. dev. of 7 runs, 10 loops each)\n",
      "612 µs ± 29.3 µs per loop (mean ± std. dev. of 7 runs, 1000 loops each)\n"
     ]
    }
   ],
   "source": [
    "ba=np.random.rand(1000000)\n",
    "# print(ba)\n",
    "%timeit sum(ba)\n",
    "%timeit np.sum(ba)"
   ]
  },
  {
   "cell_type": "code",
   "execution_count": 98,
   "id": "22246305",
   "metadata": {},
   "outputs": [
    {
     "data": {
      "text/plain": [
       "499534.09402706433"
      ]
     },
     "execution_count": 98,
     "metadata": {},
     "output_type": "execute_result"
    }
   ],
   "source": [
    "sum(ba)"
   ]
  },
  {
   "cell_type": "markdown",
   "id": "021d12a9",
   "metadata": {},
   "source": [
    "# Minimum and Maximum"
   ]
  },
  {
   "cell_type": "code",
   "execution_count": 99,
   "id": "2719305e",
   "metadata": {},
   "outputs": [
    {
     "data": {
      "text/plain": [
       "(1.204126347520429e-06, 0.9999975871978349)"
      ]
     },
     "execution_count": 99,
     "metadata": {},
     "output_type": "execute_result"
    }
   ],
   "source": [
    "min(ba),max(ba)"
   ]
  },
  {
   "cell_type": "code",
   "execution_count": 101,
   "id": "2be57b57",
   "metadata": {},
   "outputs": [
    {
     "data": {
      "text/plain": [
       "(1.204126347520429e-06, 0.9999975871978349)"
      ]
     },
     "execution_count": 101,
     "metadata": {},
     "output_type": "execute_result"
    }
   ],
   "source": [
    "np.min(ba),np.max(ba)"
   ]
  },
  {
   "cell_type": "code",
   "execution_count": 102,
   "id": "b0a6a326",
   "metadata": {},
   "outputs": [
    {
     "name": "stdout",
     "output_type": "stream",
     "text": [
      "1.204126347520429e-06 0.9999975871978349 499534.0940270611\n"
     ]
    }
   ],
   "source": [
    "print(ba.min(),ba.max(),ba.sum())"
   ]
  },
  {
   "cell_type": "markdown",
   "id": "e8f29212",
   "metadata": {},
   "source": [
    "# Multi Dimensional Aggregates"
   ]
  },
  {
   "cell_type": "code",
   "execution_count": 103,
   "id": "49446183",
   "metadata": {},
   "outputs": [
    {
     "name": "stdout",
     "output_type": "stream",
     "text": [
      "[[0.38029594 0.57750799 0.86794389 0.19352817]\n",
      " [0.33897553 0.12095044 0.72843977 0.37631226]\n",
      " [0.43376643 0.41904239 0.05522554 0.56615916]]\n"
     ]
    }
   ],
   "source": [
    "marr=np.random.random((3,4))\n",
    "print(marr)"
   ]
  },
  {
   "cell_type": "code",
   "execution_count": 104,
   "id": "6191db4c",
   "metadata": {},
   "outputs": [
    {
     "data": {
      "text/plain": [
       "5.058147524553475"
      ]
     },
     "execution_count": 104,
     "metadata": {},
     "output_type": "execute_result"
    }
   ],
   "source": [
    "marr.sum()"
   ]
  },
  {
   "cell_type": "code",
   "execution_count": 105,
   "id": "841613a3",
   "metadata": {},
   "outputs": [
    {
     "data": {
      "text/plain": [
       "0.05522553971516253"
      ]
     },
     "execution_count": 105,
     "metadata": {},
     "output_type": "execute_result"
    }
   ],
   "source": [
    "marr.min()"
   ]
  },
  {
   "cell_type": "code",
   "execution_count": 106,
   "id": "b5a388c0",
   "metadata": {},
   "outputs": [
    {
     "data": {
      "text/plain": [
       "array([0.33897553, 0.12095044, 0.05522554, 0.19352817])"
      ]
     },
     "execution_count": 106,
     "metadata": {},
     "output_type": "execute_result"
    }
   ],
   "source": [
    "marr.min(axis=0)"
   ]
  },
  {
   "cell_type": "code",
   "execution_count": 107,
   "id": "08576bba",
   "metadata": {},
   "outputs": [
    {
     "data": {
      "text/plain": [
       "array([0.19352817, 0.12095044, 0.05522554])"
      ]
     },
     "execution_count": 107,
     "metadata": {},
     "output_type": "execute_result"
    }
   ],
   "source": [
    "marr.min(axis=1)"
   ]
  },
  {
   "cell_type": "code",
   "execution_count": 108,
   "id": "28586a16",
   "metadata": {},
   "outputs": [
    {
     "data": {
      "text/plain": [
       "0.8679438874712138"
      ]
     },
     "execution_count": 108,
     "metadata": {},
     "output_type": "execute_result"
    }
   ],
   "source": [
    "marr.max()"
   ]
  },
  {
   "cell_type": "code",
   "execution_count": 109,
   "id": "e6fca4cd",
   "metadata": {},
   "outputs": [
    {
     "data": {
      "text/plain": [
       "array([0.43376643, 0.57750799, 0.86794389, 0.56615916])"
      ]
     },
     "execution_count": 109,
     "metadata": {},
     "output_type": "execute_result"
    }
   ],
   "source": [
    "marr.max(axis=0)"
   ]
  },
  {
   "cell_type": "code",
   "execution_count": 110,
   "id": "89fa7221",
   "metadata": {},
   "outputs": [
    {
     "data": {
      "text/plain": [
       "array([0.86794389, 0.72843977, 0.56615916])"
      ]
     },
     "execution_count": 110,
     "metadata": {},
     "output_type": "execute_result"
    }
   ],
   "source": [
    "marr.max(axis=1)"
   ]
  },
  {
   "cell_type": "code",
   "execution_count": 111,
   "id": "844fdac2",
   "metadata": {},
   "outputs": [
    {
     "data": {
      "text/plain": [
       "5.058147524553475"
      ]
     },
     "execution_count": 111,
     "metadata": {},
     "output_type": "execute_result"
    }
   ],
   "source": [
    "marr.sum()"
   ]
  },
  {
   "cell_type": "code",
   "execution_count": 112,
   "id": "c17b1b4f",
   "metadata": {},
   "outputs": [
    {
     "data": {
      "text/plain": [
       "array([1.15303791, 1.11750082, 1.65160919, 1.1359996 ])"
      ]
     },
     "execution_count": 112,
     "metadata": {},
     "output_type": "execute_result"
    }
   ],
   "source": [
    "marr.sum(axis=0)"
   ]
  },
  {
   "cell_type": "code",
   "execution_count": 113,
   "id": "0209036a",
   "metadata": {},
   "outputs": [
    {
     "data": {
      "text/plain": [
       "array([2.01927599, 1.56467801, 1.47419353])"
      ]
     },
     "execution_count": 113,
     "metadata": {},
     "output_type": "execute_result"
    }
   ],
   "source": [
    "marr.sum(axis=1)"
   ]
  },
  {
   "cell_type": "markdown",
   "id": "7c7aba61",
   "metadata": {},
   "source": [
    "# Other aggregation functions"
   ]
  },
  {
   "cell_type": "code",
   "execution_count": 114,
   "id": "9677c661",
   "metadata": {},
   "outputs": [
    {
     "name": "stdout",
     "output_type": "stream",
     "text": [
      "\n",
      "Function Name       NaN-safe Version       Description\n",
      "=============       ================       ===========\n",
      "np.sum              np.nansum              Compute sum of elements\n",
      "np.prod             np.nanprod             Compute product of elements\n",
      "np.mean             np.nanmean             Compute median of elements\n",
      "np.std              np.nanstd              Compute standard deviation\n",
      "np.var              np.nanvar              Compute variance\n",
      "np.min              np.nanmin              Find minimum value\n",
      "np.max              np.nanmax              Find maximum value\n",
      "np.argmin           np.nanargmin           Find index of minimum value\n",
      "np.argmax           np.nanargmax           Find index of maximum value\n",
      "np.median           np.nanmedian           Compute median of elements\n",
      "np.percentile       np.nanpercentile       Compute rank-based statistics of elements\n",
      "np.any              N/A                    Evaluate whether any elements are true\n",
      "np.all              N/A                    Evaluate whether all elements are true\n",
      "\n"
     ]
    }
   ],
   "source": [
    "print(\"\"\"\n",
    "Function Name       NaN-safe Version       Description\n",
    "=============       ================       ===========\n",
    "np.sum              np.nansum              Compute sum of elements\n",
    "np.prod             np.nanprod             Compute product of elements\n",
    "np.mean             np.nanmean             Compute median of elements\n",
    "np.std              np.nanstd              Compute standard deviation\n",
    "np.var              np.nanvar              Compute variance\n",
    "np.min              np.nanmin              Find minimum value\n",
    "np.max              np.nanmax              Find maximum value\n",
    "np.argmin           np.nanargmin           Find index of minimum value\n",
    "np.argmax           np.nanargmax           Find index of maximum value\n",
    "np.median           np.nanmedian           Compute median of elements\n",
    "np.percentile       np.nanpercentile       Compute rank-based statistics of elements\n",
    "np.any              N/A                    Evaluate whether any elements are true\n",
    "np.all              N/A                    Evaluate whether all elements are true\n",
    "\"\"\")"
   ]
  },
  {
   "cell_type": "code",
   "execution_count": 117,
   "id": "f153a6c5",
   "metadata": {},
   "outputs": [
    {
     "data": {
      "text/plain": [
       "array([178, 165, 166, 180, 168, 185, 168, 172, 162, 186, 169, 176, 181,\n",
       "       186, 161, 171, 182, 194, 173, 165, 190, 182, 194, 177, 170, 171,\n",
       "       168, 175, 186, 186, 192, 175, 161, 174, 188, 180, 179, 173, 181,\n",
       "       169, 163, 192])"
      ]
     },
     "execution_count": 117,
     "metadata": {},
     "output_type": "execute_result"
    }
   ],
   "source": [
    "heights=np.random.randint(160,195,42)\n",
    "heights"
   ]
  },
  {
   "cell_type": "code",
   "execution_count": 118,
   "id": "c4125003",
   "metadata": {},
   "outputs": [
    {
     "name": "stdout",
     "output_type": "stream",
     "text": [
      "176.52380952380952\n",
      "9.399184603028822\n",
      "161 194\n"
     ]
    }
   ],
   "source": [
    "print(heights.mean()) # mean \n",
    "print(heights.std()) # standard deviation\n",
    "print(heights.min(),heights.max())"
   ]
  },
  {
   "cell_type": "code",
   "execution_count": 122,
   "id": "36be7ec2",
   "metadata": {},
   "outputs": [
    {
     "name": "stdout",
     "output_type": "stream",
     "text": [
      "168.0\n",
      "169.0\n",
      "175.5\n",
      "184.25\n"
     ]
    }
   ],
   "source": [
    "print(np.percentile(heights,20))\n",
    "print(np.percentile(heights,25))\n",
    "print(np.median(heights))\n",
    "print(np.percentile(heights,75))"
   ]
  },
  {
   "cell_type": "code",
   "execution_count": 123,
   "id": "f6bdc257",
   "metadata": {},
   "outputs": [],
   "source": [
    "%matplotlib inline\n",
    "import matplotlib.pyplot as plt\n",
    "import seaborn; seaborn.set() # set plot style"
   ]
  },
  {
   "cell_type": "code",
   "execution_count": 125,
   "id": "6cd7ebee",
   "metadata": {},
   "outputs": [
    {
     "data": {
      "text/plain": [
       "Text(0, 0.5, 'number')"
      ]
     },
     "execution_count": 125,
     "metadata": {},
     "output_type": "execute_result"
    },
    {
     "data": {
      "image/png": "[encoded data removed]",
      "text/plain": [
       "<Figure size 432x288 with 1 Axes>"
      ]
     },
     "metadata": {},
     "output_type": "display_data"
    }
   ],
   "source": [
    "plt.hist(heights)\n",
    "plt.title('Heights Distribution')\n",
    "plt.xlabel('height(cm)')\n",
    "plt.ylabel('number')"
   ]
  },
  {
   "cell_type": "markdown",
   "id": "d1fbcd22",
   "metadata": {},
   "source": [
    " # computing on arrays broadcasting"
   ]
  },
  {
   "cell_type": "markdown",
   "id": "577a213e",
   "metadata": {},
   "source": [
    "INTRODUCING BROADCASTING"
   ]
  },
  {
   "cell_type": "code",
   "execution_count": 126,
   "id": "3f6a1bce",
   "metadata": {},
   "outputs": [
    {
     "data": {
      "text/plain": [
       "array([5, 6, 7])"
      ]
     },
     "execution_count": 126,
     "metadata": {},
     "output_type": "execute_result"
    }
   ],
   "source": [
    "a=np.array([0,1,2])\n",
    "b=np.array([5,5,5])\n",
    "a+b"
   ]
  },
  {
   "cell_type": "code",
   "execution_count": 127,
   "id": "2c6b493c",
   "metadata": {},
   "outputs": [
    {
     "data": {
      "text/plain": [
       "array([5, 6, 7])"
      ]
     },
     "execution_count": 127,
     "metadata": {},
     "output_type": "execute_result"
    }
   ],
   "source": [
    "a+5"
   ]
  },
  {
   "cell_type": "code",
   "execution_count": 130,
   "id": "f3d9808b",
   "metadata": {},
   "outputs": [
    {
     "data": {
      "text/plain": [
       "array([1., 1., 1.])"
      ]
     },
     "execution_count": 130,
     "metadata": {},
     "output_type": "execute_result"
    }
   ],
   "source": [
    "m=np.ones(3)\n",
    "m"
   ]
  },
  {
   "cell_type": "code",
   "execution_count": 131,
   "id": "e7b5972b",
   "metadata": {},
   "outputs": [],
   "source": [
    "m=np.ones((3,3))"
   ]
  },
  {
   "cell_type": "code",
   "execution_count": 132,
   "id": "1fd2b486",
   "metadata": {},
   "outputs": [
    {
     "data": {
      "text/plain": [
       "array([[1., 1., 1.],\n",
       "       [1., 1., 1.],\n",
       "       [1., 1., 1.]])"
      ]
     },
     "execution_count": 132,
     "metadata": {},
     "output_type": "execute_result"
    }
   ],
   "source": [
    "m"
   ]
  },
  {
   "cell_type": "code",
   "execution_count": 133,
   "id": "accbcd08",
   "metadata": {},
   "outputs": [
    {
     "data": {
      "text/plain": [
       "array([[1., 2., 3.],\n",
       "       [1., 2., 3.],\n",
       "       [1., 2., 3.]])"
      ]
     },
     "execution_count": 133,
     "metadata": {},
     "output_type": "execute_result"
    }
   ],
   "source": [
    "m+a"
   ]
  },
  {
   "cell_type": "code",
   "execution_count": 135,
   "id": "bb698bee",
   "metadata": {},
   "outputs": [
    {
     "data": {
      "text/plain": [
       "array([[5, 6, 7],\n",
       "       [5, 6, 7],\n",
       "       [5, 6, 7]])"
      ]
     },
     "execution_count": 135,
     "metadata": {},
     "output_type": "execute_result"
    }
   ],
   "source": [
    "a+b.reshape(3,1)"
   ]
  },
  {
   "cell_type": "markdown",
   "id": "81f0fc15",
   "metadata": {},
   "source": [
    "BroadCasting"
   ]
  },
  {
   "cell_type": "code",
   "execution_count": 136,
   "id": "d3a39426",
   "metadata": {},
   "outputs": [
    {
     "data": {
      "text/plain": [
       "(array([[1., 1., 1.],\n",
       "        [1., 1., 1.]]),\n",
       " array([0, 1, 2]))"
      ]
     },
     "execution_count": 136,
     "metadata": {},
     "output_type": "execute_result"
    }
   ],
   "source": [
    "m=np.ones((2,3))\n",
    "a=np.arange(3)\n",
    "m,a"
   ]
  },
  {
   "cell_type": "code",
   "execution_count": 137,
   "id": "f4e07395",
   "metadata": {},
   "outputs": [
    {
     "data": {
      "text/plain": [
       "array([[1., 2., 3.],\n",
       "       [1., 2., 3.]])"
      ]
     },
     "execution_count": 137,
     "metadata": {},
     "output_type": "execute_result"
    }
   ],
   "source": [
    "m+a"
   ]
  },
  {
   "cell_type": "code",
   "execution_count": 138,
   "id": "88a0f9d4",
   "metadata": {},
   "outputs": [],
   "source": [
    "# example 2\n",
    "a=np.arange(3).reshape((3,1))\n",
    "b=np.arange(3)\n"
   ]
  },
  {
   "cell_type": "code",
   "execution_count": 139,
   "id": "015b2fd1",
   "metadata": {},
   "outputs": [
    {
     "data": {
      "text/plain": [
       "array([[0, 1, 2],\n",
       "       [1, 2, 3],\n",
       "       [2, 3, 4]])"
      ]
     },
     "execution_count": 139,
     "metadata": {},
     "output_type": "execute_result"
    }
   ],
   "source": [
    "a+b"
   ]
  },
  {
   "cell_type": "code",
   "execution_count": 142,
   "id": "042e2e1d",
   "metadata": {},
   "outputs": [
    {
     "data": {
      "text/plain": [
       "(array([[1., 1.],\n",
       "        [1., 1.],\n",
       "        [1., 1.]]),\n",
       " array([0, 1, 2]))"
      ]
     },
     "execution_count": 142,
     "metadata": {},
     "output_type": "execute_result"
    }
   ],
   "source": [
    "# example 3\n",
    "m=np.ones((3,2))\n",
    "a=np.arange(3)\n",
    "m,a"
   ]
  },
  {
   "cell_type": "code",
   "execution_count": 141,
   "id": "f7872cfa",
   "metadata": {},
   "outputs": [
    {
     "ename": "ValueError",
     "evalue": "operands could not be broadcast together with shapes (3,2) (3,) ",
     "output_type": "error",
     "traceback": [
      "\u001b[0;31m---------------------------------------------------------------------------\u001b[0m",
      "\u001b[0;31mValueError\u001b[0m                                Traceback (most recent call last)",
      "\u001b[0;32m/tmp/ipykernel_61380/656763710.py\u001b[0m in \u001b[0;36m<module>\u001b[0;34m\u001b[0m\n\u001b[0;32m----> 1\u001b[0;31m \u001b[0mm\u001b[0m\u001b[0;34m+\u001b[0m\u001b[0ma\u001b[0m\u001b[0;34m\u001b[0m\u001b[0;34m\u001b[0m\u001b[0m\n\u001b[0m",
      "\u001b[0;31mValueError\u001b[0m: operands could not be broadcast together with shapes (3,2) (3,) "
     ]
    }
   ],
   "source": [
    " # error because dimension is not same\n",
    "m+a"
   ]
  },
  {
   "cell_type": "code",
   "execution_count": 143,
   "id": "0b5c8d94",
   "metadata": {},
   "outputs": [
    {
     "data": {
      "text/plain": [
       "(3, 1)"
      ]
     },
     "execution_count": 143,
     "metadata": {},
     "output_type": "execute_result"
    }
   ],
   "source": [
    "a[:,np.newaxis].shape"
   ]
  },
  {
   "cell_type": "code",
   "execution_count": 144,
   "id": "26fa41b1",
   "metadata": {},
   "outputs": [
    {
     "data": {
      "text/plain": [
       "array([[1., 1.],\n",
       "       [2., 2.],\n",
       "       [3., 3.]])"
      ]
     },
     "execution_count": 144,
     "metadata": {},
     "output_type": "execute_result"
    }
   ],
   "source": [
    "m+a[:,np.newaxis]"
   ]
  },
  {
   "cell_type": "code",
   "execution_count": 145,
   "id": "9f9b166c",
   "metadata": {},
   "outputs": [
    {
     "data": {
      "text/plain": [
       "array([[1.31326169, 1.31326169],\n",
       "       [1.69314718, 1.69314718],\n",
       "       [2.31326169, 2.31326169]])"
      ]
     },
     "execution_count": 145,
     "metadata": {},
     "output_type": "execute_result"
    }
   ],
   "source": [
    "np.logaddexp(m,a[:,np.newaxis]) # same as below"
   ]
  },
  {
   "cell_type": "code",
   "execution_count": 149,
   "id": "1a1cb3df",
   "metadata": {},
   "outputs": [
    {
     "data": {
      "text/plain": [
       "array([[1.31326169, 1.31326169],\n",
       "       [1.69314718, 1.69314718],\n",
       "       [2.31326169, 2.31326169]])"
      ]
     },
     "execution_count": 149,
     "metadata": {},
     "output_type": "execute_result"
    }
   ],
   "source": [
    "np.log(np.exp(m)+np.exp(a[:,np.newaxis])) # same as above"
   ]
  }
 ],
 "metadata": {
  "kernelspec": {
   "display_name": "Python 3 (ipykernel)",
   "language": "python",
   "name": "python3"
  },
  "language_info": {
   "codemirror_mode": {
    "name": "ipython",
    "version": 3
   },
   "file_extension": ".py",
   "mimetype": "text/x-python",
   "name": "python",
   "nbconvert_exporter": "python",
   "pygments_lexer": "ipython3",
   "version": "3.10.12"
  }
 },
 "nbformat": 4,
 "nbformat_minor": 5
}
