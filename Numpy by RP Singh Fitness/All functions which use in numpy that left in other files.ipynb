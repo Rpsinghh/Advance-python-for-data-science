{
 "cells": [
  {
   "cell_type": "markdown",
   "id": "01fe68a4",
   "metadata": {},
   "source": [
    "# functions starts with A"
   ]
  },
  {
   "cell_type": "code",
   "execution_count": 1,
   "id": "7f4f1ec2",
   "metadata": {},
   "outputs": [
    {
     "data": {
      "text/plain": [
       "array([ 1,  2,  4, -2,  3, -5])"
      ]
     },
     "execution_count": 1,
     "metadata": {},
     "output_type": "execute_result"
    }
   ],
   "source": [
    "import numpy as np\n",
    "arr=np.array([1,2,4,-2,3,-5])\n",
    "arr"
   ]
  },
  {
   "cell_type": "code",
   "execution_count": 2,
   "id": "96a3db84",
   "metadata": {},
   "outputs": [
    {
     "data": {
      "text/plain": [
       "array([1, 2, 4, 2, 3, 5])"
      ]
     },
     "execution_count": 2,
     "metadata": {},
     "output_type": "execute_result"
    }
   ],
   "source": [
    "# 1.absolute\n",
    "abs(arr)"
   ]
  },
  {
   "cell_type": "code",
   "execution_count": 3,
   "id": "23355060",
   "metadata": {},
   "outputs": [
    {
     "data": {
      "text/plain": [
       "array([1, 2, 4, 2, 3, 5])"
      ]
     },
     "execution_count": 3,
     "metadata": {},
     "output_type": "execute_result"
    }
   ],
   "source": [
    "np.absolute(arr)"
   ]
  },
  {
   "cell_type": "code",
   "execution_count": 4,
   "id": "3ffc7d46",
   "metadata": {},
   "outputs": [
    {
     "data": {
      "text/plain": [
       "array([ 1,  2,  3,  4,  5,  6,  7,  8,  9, 10])"
      ]
     },
     "execution_count": 4,
     "metadata": {},
     "output_type": "execute_result"
    }
   ],
   "source": [
    "x=np.arange(1,11)\n",
    "x"
   ]
  },
  {
   "cell_type": "code",
   "execution_count": 5,
   "id": "1bde336e",
   "metadata": {},
   "outputs": [
    {
     "data": {
      "text/plain": [
       "array([ 1,  3,  6, 10, 15, 21, 28, 36, 45, 55])"
      ]
     },
     "execution_count": 5,
     "metadata": {},
     "output_type": "execute_result"
    }
   ],
   "source": [
    "# 3.accumulate will add the numbers and put values like 1,2+1,3+2+1,....,10+9+8+7+6+5+4+3+2+1\n",
    "np.add.accumulate(x)"
   ]
  },
  {
   "cell_type": "code",
   "execution_count": 6,
   "id": "fcb6fe5b",
   "metadata": {},
   "outputs": [
    {
     "data": {
      "text/plain": [
       "array([6, 6, 6, 6, 6])"
      ]
     },
     "execution_count": 6,
     "metadata": {},
     "output_type": "execute_result"
    }
   ],
   "source": [
    "# 4.add function\n",
    "a=np.array([1,2,3,4,5])\n",
    "b=np.array([5,4,3,2,1])\n",
    "np.add(a,b)"
   ]
  },
  {
   "cell_type": "code",
   "execution_count": 7,
   "id": "78a0c27f",
   "metadata": {},
   "outputs": [
    {
     "data": {
      "text/plain": [
       "True"
      ]
     },
     "execution_count": 7,
     "metadata": {},
     "output_type": "execute_result"
    }
   ],
   "source": [
    "# for checking the zeros valuesa\n",
    "all(a)"
   ]
  },
  {
   "cell_type": "code",
   "execution_count": 8,
   "id": "34f38e99",
   "metadata": {},
   "outputs": [
    {
     "data": {
      "text/plain": [
       "True"
      ]
     },
     "execution_count": 8,
     "metadata": {},
     "output_type": "execute_result"
    }
   ],
   "source": [
    "any(a)"
   ]
  },
  {
   "cell_type": "code",
   "execution_count": 9,
   "id": "a427b70d",
   "metadata": {},
   "outputs": [
    {
     "data": {
      "text/plain": [
       "True"
      ]
     },
     "execution_count": 9,
     "metadata": {},
     "output_type": "execute_result"
    }
   ],
   "source": [
    "np.alltrue(a)"
   ]
  },
  {
   "cell_type": "code",
   "execution_count": 10,
   "id": "439765cc",
   "metadata": {},
   "outputs": [
    {
     "data": {
      "text/plain": [
       "True"
      ]
     },
     "execution_count": 10,
     "metadata": {},
     "output_type": "execute_result"
    }
   ],
   "source": [
    "a.all()"
   ]
  },
  {
   "cell_type": "code",
   "execution_count": 11,
   "id": "27758fa4",
   "metadata": {},
   "outputs": [
    {
     "data": {
      "text/plain": [
       "True"
      ]
     },
     "execution_count": 11,
     "metadata": {},
     "output_type": "execute_result"
    }
   ],
   "source": [
    "a.any()"
   ]
  },
  {
   "cell_type": "code",
   "execution_count": 12,
   "id": "ead6ffb6",
   "metadata": {},
   "outputs": [
    {
     "data": {
      "text/plain": [
       "0.7853981633974483"
      ]
     },
     "execution_count": 12,
     "metadata": {},
     "output_type": "execute_result"
    }
   ],
   "source": [
    "# angle gives you the angle in radian and degree\n",
    "np.angle(1+1j) # angle in radian"
   ]
  },
  {
   "cell_type": "code",
   "execution_count": 13,
   "id": "aa0b52a0",
   "metadata": {},
   "outputs": [
    {
     "data": {
      "text/plain": [
       "45.0"
      ]
     },
     "execution_count": 13,
     "metadata": {},
     "output_type": "execute_result"
    }
   ],
   "source": [
    "np.angle(1+1j,deg=True) # angle in degree"
   ]
  },
  {
   "cell_type": "code",
   "execution_count": 14,
   "id": "e842af5b",
   "metadata": {},
   "outputs": [
    {
     "name": "stdout",
     "output_type": "stream",
     "text": [
      "[1 2 3 4 5]\n"
     ]
    },
    {
     "data": {
      "text/plain": [
       "array([ 1,  2,  3,  4,  5, 15, 18, 19, 20])"
      ]
     },
     "execution_count": 14,
     "metadata": {},
     "output_type": "execute_result"
    }
   ],
   "source": [
    "# append will add elements \n",
    "print(a)\n",
    "np.append(a,[15,18,19,20],axis=0)"
   ]
  },
  {
   "cell_type": "code",
   "execution_count": 15,
   "id": "f3707edd",
   "metadata": {},
   "outputs": [
    {
     "data": {
      "text/plain": [
       "array([0, 1, 2, 3, 4, 5, 6, 7, 8, 9])"
      ]
     },
     "execution_count": 15,
     "metadata": {},
     "output_type": "execute_result"
    }
   ],
   "source": [
    "# arange will give you the list of numbers\n",
    "np.arange(10)"
   ]
  },
  {
   "cell_type": "code",
   "execution_count": 16,
   "id": "4212f9cf",
   "metadata": {},
   "outputs": [
    {
     "data": {
      "text/plain": [
       "0.12331227519187199"
      ]
     },
     "execution_count": 16,
     "metadata": {},
     "output_type": "execute_result"
    }
   ],
   "source": [
    "np.arcsin(0.123)"
   ]
  },
  {
   "cell_type": "code",
   "execution_count": 17,
   "id": "f0d1dda4",
   "metadata": {},
   "outputs": [
    {
     "data": {
      "text/plain": [
       "1.4474840516030247"
      ]
     },
     "execution_count": 17,
     "metadata": {},
     "output_type": "execute_result"
    }
   ],
   "source": [
    "np.arccos(0.123)"
   ]
  },
  {
   "cell_type": "code",
   "execution_count": 18,
   "id": "a7430a53",
   "metadata": {},
   "outputs": [
    {
     "data": {
      "text/plain": [
       "0.7853981633974483"
      ]
     },
     "execution_count": 18,
     "metadata": {},
     "output_type": "execute_result"
    }
   ],
   "source": [
    "np.arctan(1)"
   ]
  },
  {
   "cell_type": "code",
   "execution_count": 19,
   "id": "e1048c9f",
   "metadata": {},
   "outputs": [
    {
     "data": {
      "text/plain": [
       "array([ 1,  2,  3,  4,  5,  6,  7,  8,  9, 10])"
      ]
     },
     "execution_count": 19,
     "metadata": {},
     "output_type": "execute_result"
    }
   ],
   "source": [
    "x"
   ]
  },
  {
   "cell_type": "code",
   "execution_count": 20,
   "id": "39c423dd",
   "metadata": {},
   "outputs": [
    {
     "data": {
      "text/plain": [
       "9"
      ]
     },
     "execution_count": 20,
     "metadata": {},
     "output_type": "execute_result"
    }
   ],
   "source": [
    "# argument max,min, arg give you the index of that minimum and maximum number\n",
    "np.argmax(x)"
   ]
  },
  {
   "cell_type": "code",
   "execution_count": 21,
   "id": "d4d84f7c",
   "metadata": {},
   "outputs": [
    {
     "data": {
      "text/plain": [
       "0"
      ]
     },
     "execution_count": 21,
     "metadata": {},
     "output_type": "execute_result"
    }
   ],
   "source": [
    "np.argmin(x)"
   ]
  },
  {
   "cell_type": "code",
   "execution_count": 22,
   "id": "8da414ed",
   "metadata": {},
   "outputs": [
    {
     "data": {
      "text/plain": [
       "array([4, 3, 2, 1, 0])"
      ]
     },
     "execution_count": 22,
     "metadata": {},
     "output_type": "execute_result"
    }
   ],
   "source": [
    "# argsort gives you in which indexes you do so the whole array will be sorted\n",
    "np.argsort(b)"
   ]
  },
  {
   "cell_type": "code",
   "execution_count": 23,
   "id": "c639778c",
   "metadata": {},
   "outputs": [
    {
     "data": {
      "text/plain": [
       "3.0"
      ]
     },
     "execution_count": 23,
     "metadata": {},
     "output_type": "execute_result"
    }
   ],
   "source": [
    "np.average(a)\n",
    "# gives the average"
   ]
  },
  {
   "cell_type": "markdown",
   "id": "b0ff90d0",
   "metadata": {},
   "source": [
    "# functions starts with B"
   ]
  },
  {
   "cell_type": "code",
   "execution_count": 24,
   "id": "08f9da26",
   "metadata": {},
   "outputs": [
    {
     "data": {
      "text/plain": [
       "array([0, 1, 1, 1, 1, 1])"
      ]
     },
     "execution_count": 24,
     "metadata": {},
     "output_type": "execute_result"
    }
   ],
   "source": [
    "# this will count how many time the numbers are there\n",
    "np.bincount(a)"
   ]
  },
  {
   "cell_type": "code",
   "execution_count": 25,
   "id": "c7334876",
   "metadata": {},
   "outputs": [
    {
     "data": {
      "text/plain": [
       "array([17, 12, 18, 10, 16, 14, 13, 16, 16, 12, 13, 13, 12, 13, 12, 16, 10,\n",
       "       17, 11, 16, 13, 15, 15, 19, 12, 10, 19, 19, 18, 18, 10, 12, 15, 19,\n",
       "       16, 18, 18, 17, 18, 12, 13, 13, 19, 16, 14, 19, 19, 19, 12, 11])"
      ]
     },
     "execution_count": 25,
     "metadata": {},
     "output_type": "execute_result"
    }
   ],
   "source": [
    "bins=np.random.randint(10,20,50)\n",
    "bins"
   ]
  },
  {
   "cell_type": "code",
   "execution_count": 26,
   "id": "4d49dee7",
   "metadata": {},
   "outputs": [
    {
     "data": {
      "text/plain": [
       "array([0, 0, 0, 0, 0, 0, 0, 0, 0, 0, 4, 2, 8, 7, 2, 3, 7, 3, 6, 8])"
      ]
     },
     "execution_count": 26,
     "metadata": {},
     "output_type": "execute_result"
    }
   ],
   "source": [
    "np.bincount(bins)"
   ]
  },
  {
   "cell_type": "code",
   "execution_count": 27,
   "id": "ba318cdc",
   "metadata": {},
   "outputs": [
    {
     "data": {
      "text/plain": [
       "array([0, 0, 0, 0, 0, 0, 0, 0, 0, 0, 4, 2, 8, 7, 2, 3, 7, 3, 6, 8])"
      ]
     },
     "execution_count": 27,
     "metadata": {},
     "output_type": "execute_result"
    }
   ],
   "source": [
    "np.bincount(bins)"
   ]
  },
  {
   "cell_type": "markdown",
   "id": "98074531",
   "metadata": {},
   "source": [
    "# Functions with C"
   ]
  },
  {
   "cell_type": "code",
   "execution_count": 28,
   "id": "ded30a5b",
   "metadata": {},
   "outputs": [],
   "source": [
    "ceil=np.array([1.7,2.4,-1.3,4,5.9,1.1])"
   ]
  },
  {
   "cell_type": "code",
   "execution_count": 29,
   "id": "5910fd1f",
   "metadata": {},
   "outputs": [
    {
     "data": {
      "text/plain": [
       "array([ 1.7,  2.4, -1.3,  4. ,  5.9,  1.1])"
      ]
     },
     "execution_count": 29,
     "metadata": {},
     "output_type": "execute_result"
    }
   ],
   "source": [
    "ceil"
   ]
  },
  {
   "cell_type": "code",
   "execution_count": 30,
   "id": "f8140c60",
   "metadata": {},
   "outputs": [
    {
     "data": {
      "text/plain": [
       "array([ 2.,  3., -1.,  4.,  6.,  2.])"
      ]
     },
     "execution_count": 30,
     "metadata": {},
     "output_type": "execute_result"
    }
   ],
   "source": [
    "np.ceil(ceil) # will give you the value more then the point"
   ]
  },
  {
   "cell_type": "code",
   "execution_count": 31,
   "id": "982b46da",
   "metadata": {},
   "outputs": [
    {
     "data": {
      "text/plain": [
       "array([ 1.,  2., -2.,  4.,  5.,  1.])"
      ]
     },
     "execution_count": 31,
     "metadata": {},
     "output_type": "execute_result"
    }
   ],
   "source": [
    "# use of floor\n",
    "np.floor(ceil)"
   ]
  },
  {
   "cell_type": "code",
   "execution_count": 32,
   "id": "0bffc2fe",
   "metadata": {},
   "outputs": [
    {
     "data": {
      "text/plain": [
       "array([ 2.,  2., -1.,  4.,  6.,  1.])"
      ]
     },
     "execution_count": 32,
     "metadata": {},
     "output_type": "execute_result"
    }
   ],
   "source": [
    "# round\n",
    "np.round(ceil)"
   ]
  },
  {
   "cell_type": "code",
   "execution_count": 33,
   "id": "897e1858",
   "metadata": {},
   "outputs": [
    {
     "data": {
      "text/plain": [
       "array([ 1.,  2., -1.,  4.,  5.,  1.])"
      ]
     },
     "execution_count": 33,
     "metadata": {},
     "output_type": "execute_result"
    }
   ],
   "source": [
    "np.fix(ceil)"
   ]
  },
  {
   "cell_type": "code",
   "execution_count": 34,
   "id": "ac615bf4",
   "metadata": {},
   "outputs": [
    {
     "name": "stdout",
     "output_type": "stream",
     "text": [
      "[1 2 3 4 5]\n"
     ]
    },
    {
     "data": {
      "text/plain": [
       "array([1, 2, 3, 4, 4])"
      ]
     },
     "execution_count": 34,
     "metadata": {},
     "output_type": "execute_result"
    }
   ],
   "source": [
    "# use of clip will not accept more than 4 and if more than 4 is there then it will return 4 and minimum it return 1\n",
    "print(a)\n",
    "np.clip(a=a,a_min=1,a_max=4) "
   ]
  },
  {
   "cell_type": "code",
   "execution_count": 35,
   "id": "8709aa2e",
   "metadata": {},
   "outputs": [
    {
     "name": "stdout",
     "output_type": "stream",
     "text": [
      "[1 2 3 4 5]\n"
     ]
    },
    {
     "data": {
      "text/plain": [
       "array([[1, 2, 3, 4, 5]])"
      ]
     },
     "execution_count": 35,
     "metadata": {},
     "output_type": "execute_result"
    }
   ],
   "source": [
    "print(a)\n",
    "np.column_stack(a)"
   ]
  },
  {
   "cell_type": "code",
   "execution_count": 36,
   "id": "3287caf7",
   "metadata": {},
   "outputs": [
    {
     "data": {
      "text/plain": [
       "array([1, 2, 3, 4, 5, 1, 2, 3, 4, 5])"
      ]
     },
     "execution_count": 36,
     "metadata": {},
     "output_type": "execute_result"
    }
   ],
   "source": [
    "# concatenation\n",
    "np.concatenate((a,a))"
   ]
  },
  {
   "cell_type": "code",
   "execution_count": 37,
   "id": "3006f115",
   "metadata": {},
   "outputs": [
    {
     "data": {
      "text/plain": [
       "array([1, 2, 3, 4, 5, 5, 4, 3, 2, 1])"
      ]
     },
     "execution_count": 37,
     "metadata": {},
     "output_type": "execute_result"
    }
   ],
   "source": [
    "np.concatenate((a,b))"
   ]
  },
  {
   "cell_type": "code",
   "execution_count": 38,
   "id": "a63cc127",
   "metadata": {},
   "outputs": [
    {
     "name": "stdout",
     "output_type": "stream",
     "text": [
      "[1 2 3 4 5]\n"
     ]
    },
    {
     "data": {
      "text/plain": [
       "array([ 1,  3,  6, 10, 15])"
      ]
     },
     "execution_count": 38,
     "metadata": {},
     "output_type": "execute_result"
    }
   ],
   "source": [
    "# cumsum() gives you the sum\n",
    "print(a)\n",
    "np.cumsum(a)"
   ]
  },
  {
   "cell_type": "code",
   "execution_count": 39,
   "id": "05265fc8",
   "metadata": {},
   "outputs": [
    {
     "data": {
      "text/plain": [
       "array([  1,   2,   6,  24, 120])"
      ]
     },
     "execution_count": 39,
     "metadata": {},
     "output_type": "execute_result"
    }
   ],
   "source": [
    "np.cumprod(a)"
   ]
  },
  {
   "cell_type": "code",
   "execution_count": 40,
   "id": "fcc79b67",
   "metadata": {},
   "outputs": [
    {
     "data": {
      "text/plain": [
       "120"
      ]
     },
     "execution_count": 40,
     "metadata": {},
     "output_type": "execute_result"
    }
   ],
   "source": [
    "np.prod(a)"
   ]
  },
  {
   "cell_type": "code",
   "execution_count": 41,
   "id": "80ad945a",
   "metadata": {},
   "outputs": [
    {
     "data": {
      "text/plain": [
       "15"
      ]
     },
     "execution_count": 41,
     "metadata": {},
     "output_type": "execute_result"
    }
   ],
   "source": [
    "np.sum(a)"
   ]
  },
  {
   "cell_type": "markdown",
   "id": "af15992f",
   "metadata": {},
   "source": [
    "# Functions with D,E,F"
   ]
  },
  {
   "cell_type": "code",
   "execution_count": 42,
   "id": "39d6e54b",
   "metadata": {},
   "outputs": [],
   "source": [
    "# it will simple delete that array\n",
    "del a"
   ]
  },
  {
   "cell_type": "code",
   "execution_count": 43,
   "id": "3cb15a68",
   "metadata": {},
   "outputs": [],
   "source": [
    "# a"
   ]
  },
  {
   "cell_type": "code",
   "execution_count": 44,
   "id": "a52e4361",
   "metadata": {},
   "outputs": [
    {
     "data": {
      "text/plain": [
       "matrix([[ 1,  2,  3],\n",
       "        [56, 78, 89],\n",
       "        [23, 34, 53]])"
      ]
     },
     "execution_count": 44,
     "metadata": {},
     "output_type": "execute_result"
    }
   ],
   "source": [
    "m=np.matrix('1 2 3;56 78 89;23 34 53')\n",
    "m"
   ]
  },
  {
   "cell_type": "code",
   "execution_count": 45,
   "id": "317aba18",
   "metadata": {},
   "outputs": [
    {
     "data": {
      "text/plain": [
       "-404.00000000000017"
      ]
     },
     "execution_count": 45,
     "metadata": {},
     "output_type": "execute_result"
    }
   ],
   "source": [
    "# deteminant of array\n",
    "np.linalg.det(m)"
   ]
  },
  {
   "cell_type": "code",
   "execution_count": 46,
   "id": "78c3d464",
   "metadata": {},
   "outputs": [
    {
     "data": {
      "text/plain": [
       "array([ 1, 78, 53])"
      ]
     },
     "execution_count": 46,
     "metadata": {},
     "output_type": "execute_result"
    }
   ],
   "source": [
    "# diagonals \n",
    "np.diag(m)"
   ]
  },
  {
   "cell_type": "code",
   "execution_count": 47,
   "id": "34af9228",
   "metadata": {},
   "outputs": [
    {
     "data": {
      "text/plain": [
       "array([ 1, 78, 53])"
      ]
     },
     "execution_count": 47,
     "metadata": {},
     "output_type": "execute_result"
    }
   ],
   "source": [
    "np.diagonal(m)"
   ]
  },
  {
   "cell_type": "code",
   "execution_count": 48,
   "id": "87358768",
   "metadata": {},
   "outputs": [
    {
     "data": {
      "text/plain": [
       "matrix([[ 1,  0,  0,  0,  0,  0,  0,  0,  0],\n",
       "        [ 0,  2,  0,  0,  0,  0,  0,  0,  0],\n",
       "        [ 0,  0,  3,  0,  0,  0,  0,  0,  0],\n",
       "        [ 0,  0,  0, 56,  0,  0,  0,  0,  0],\n",
       "        [ 0,  0,  0,  0, 78,  0,  0,  0,  0],\n",
       "        [ 0,  0,  0,  0,  0, 89,  0,  0,  0],\n",
       "        [ 0,  0,  0,  0,  0,  0, 23,  0,  0],\n",
       "        [ 0,  0,  0,  0,  0,  0,  0, 34,  0],\n",
       "        [ 0,  0,  0,  0,  0,  0,  0,  0, 53]])"
      ]
     },
     "execution_count": 48,
     "metadata": {},
     "output_type": "execute_result"
    }
   ],
   "source": [
    "np.diagflat(m)"
   ]
  },
  {
   "cell_type": "code",
   "execution_count": 49,
   "id": "a200137a",
   "metadata": {},
   "outputs": [
    {
     "name": "stdout",
     "output_type": "stream",
     "text": [
      "[[ 1  2  3]\n",
      " [56 78 89]\n",
      " [23 34 53]]\n"
     ]
    },
    {
     "data": {
      "text/plain": [
       "matrix([[ 1,  1],\n",
       "        [22, 11],\n",
       "        [11, 19]])"
      ]
     },
     "execution_count": 49,
     "metadata": {},
     "output_type": "execute_result"
    }
   ],
   "source": [
    "# difference\n",
    "print(m)\n",
    "np.diff(m)"
   ]
  },
  {
   "cell_type": "code",
   "execution_count": 50,
   "id": "02715deb",
   "metadata": {},
   "outputs": [
    {
     "name": "stdout",
     "output_type": "stream",
     "text": [
      "[ 1  2  4 -2  3 -5]\n"
     ]
    },
    {
     "data": {
      "text/plain": [
       "array([ 1,  2, -6,  5, -8])"
      ]
     },
     "execution_count": 50,
     "metadata": {},
     "output_type": "execute_result"
    }
   ],
   "source": [
    "print(arr)\n",
    "np.diff(arr)"
   ]
  },
  {
   "cell_type": "code",
   "execution_count": 51,
   "id": "2ef6fb53",
   "metadata": {},
   "outputs": [
    {
     "data": {
      "text/plain": [
       "array([ 6.90468233e-310,  4.67861825e-310,  6.90468182e-310,\n",
       "        4.67861801e-310, -1.24053623e+120,  6.90468104e-310,\n",
       "        4.67861800e-310,  6.17478498e-029,  6.90468184e-310,\n",
       "        4.67861800e-310])"
      ]
     },
     "execution_count": 51,
     "metadata": {},
     "output_type": "execute_result"
    }
   ],
   "source": [
    "np.empty(10)"
   ]
  },
  {
   "cell_type": "code",
   "execution_count": 52,
   "id": "b7ccff42",
   "metadata": {},
   "outputs": [
    {
     "data": {
      "text/plain": [
       "array([    139752326143296,      94696287617792,     139752315882160,\n",
       "            94696282659024, 6403765751080147779,     139752300000272,\n",
       "            94696282646464, 4184848546461803280,     139752316284720,\n",
       "            94696282527696])"
      ]
     },
     "execution_count": 52,
     "metadata": {},
     "output_type": "execute_result"
    }
   ],
   "source": [
    "np.empty((10),int)"
   ]
  },
  {
   "cell_type": "code",
   "execution_count": 53,
   "id": "abd47e42",
   "metadata": {},
   "outputs": [
    {
     "name": "stdout",
     "output_type": "stream",
     "text": [
      "[1. 1. 1. 1. 1.]\n",
      "\n",
      "[0. 0. 0. 0. 0.]\n",
      "\n",
      "[[1. 0. 0. 0. 0.]\n",
      " [0. 1. 0. 0. 0.]\n",
      " [0. 0. 1. 0. 0.]\n",
      " [0. 0. 0. 1. 0.]\n",
      " [0. 0. 0. 0. 1.]]\n"
     ]
    }
   ],
   "source": [
    "# ones\n",
    "print(np.ones(5))\n",
    "print()\n",
    "print(np.zeros(5))\n",
    "print()\n",
    "print(np.eye(5))\n"
   ]
  },
  {
   "cell_type": "code",
   "execution_count": 54,
   "id": "56b123e9",
   "metadata": {},
   "outputs": [
    {
     "name": "stdout",
     "output_type": "stream",
     "text": [
      "[ 1  2  4 -2  3 -5]\n",
      "[ 4607182418800017408  4611686018427387904 -4616189618054758400\n",
      "  4616189618054758400  4617315517961601024  4607182418800017408]\n"
     ]
    }
   ],
   "source": [
    "# empty_like will empty the array\n",
    "print(arr)\n",
    "print(np.empty_like(arr))"
   ]
  },
  {
   "cell_type": "code",
   "execution_count": 55,
   "id": "a61acc32",
   "metadata": {},
   "outputs": [
    {
     "name": "stdout",
     "output_type": "stream",
     "text": [
      "[1 1 1 1 1 1]\n",
      "[0 0 0 0 0 0]\n"
     ]
    }
   ],
   "source": [
    "# same as ones_like and zeros like\n",
    "print(np.ones_like(arr))\n",
    "print(np.zeros_like(arr))"
   ]
  },
  {
   "cell_type": "code",
   "execution_count": 56,
   "id": "7fd2747d",
   "metadata": {},
   "outputs": [
    {
     "data": {
      "text/plain": [
       "array([8, 8, 8, 8, 8, 8])"
      ]
     },
     "execution_count": 56,
     "metadata": {},
     "output_type": "execute_result"
    }
   ],
   "source": [
    "# fill with any element change every elemnt with that element\n",
    "arr.fill(8)\n",
    "arr"
   ]
  },
  {
   "cell_type": "code",
   "execution_count": 57,
   "id": "e1eb0dc6",
   "metadata": {},
   "outputs": [
    {
     "name": "stdout",
     "output_type": "stream",
     "text": [
      "[[ 1  2  3]\n",
      " [56 78 89]\n",
      " [23 34 53]]\n",
      "[[ 1  2  3 56 78 89 23 34 53]]\n",
      "[ 1  2  3 56 78 89 23 34 53]\n"
     ]
    }
   ],
   "source": [
    "# flatten and ravel used to simply flat the array\n",
    "print(m)\n",
    "print(m.flatten())\n",
    "print(np.ravel(m))"
   ]
  },
  {
   "cell_type": "code",
   "execution_count": 58,
   "id": "13a1865a",
   "metadata": {},
   "outputs": [
    {
     "data": {
      "text/plain": [
       "5.0"
      ]
     },
     "execution_count": 58,
     "metadata": {},
     "output_type": "execute_result"
    }
   ],
   "source": [
    "# you wanna find the hypoteneous of the triangle then use hypot\n",
    "np.hypot(3,4)"
   ]
  },
  {
   "cell_type": "code",
   "execution_count": 59,
   "id": "808750dc",
   "metadata": {},
   "outputs": [
    {
     "data": {
      "text/plain": [
       "10.0"
      ]
     },
     "execution_count": 59,
     "metadata": {},
     "output_type": "execute_result"
    }
   ],
   "source": [
    "np.hypot(6,8)"
   ]
  },
  {
   "cell_type": "code",
   "execution_count": 60,
   "id": "98ba1c4b",
   "metadata": {},
   "outputs": [
    {
     "data": {
      "text/plain": [
       "array([[1., 0., 0., 0., 0., 0., 0., 0., 0., 0.],\n",
       "       [0., 1., 0., 0., 0., 0., 0., 0., 0., 0.],\n",
       "       [0., 0., 1., 0., 0., 0., 0., 0., 0., 0.],\n",
       "       [0., 0., 0., 1., 0., 0., 0., 0., 0., 0.],\n",
       "       [0., 0., 0., 0., 1., 0., 0., 0., 0., 0.],\n",
       "       [0., 0., 0., 0., 0., 1., 0., 0., 0., 0.],\n",
       "       [0., 0., 0., 0., 0., 0., 1., 0., 0., 0.],\n",
       "       [0., 0., 0., 0., 0., 0., 0., 1., 0., 0.],\n",
       "       [0., 0., 0., 0., 0., 0., 0., 0., 1., 0.],\n",
       "       [0., 0., 0., 0., 0., 0., 0., 0., 0., 1.]])"
      ]
     },
     "execution_count": 60,
     "metadata": {},
     "output_type": "execute_result"
    }
   ],
   "source": [
    "# identity \n",
    "np.identity(10)"
   ]
  },
  {
   "cell_type": "code",
   "execution_count": 61,
   "id": "95215bd4",
   "metadata": {},
   "outputs": [
    {
     "data": {
      "text/plain": [
       "array([[[0, 0, 0],\n",
       "        [1, 1, 1]],\n",
       "\n",
       "       [[0, 1, 2],\n",
       "        [0, 1, 2]]])"
      ]
     },
     "execution_count": 61,
     "metadata": {},
     "output_type": "execute_result"
    }
   ],
   "source": [
    "# indices\n",
    "np.indices((2,3))"
   ]
  },
  {
   "cell_type": "code",
   "execution_count": 62,
   "id": "7ec56a9c",
   "metadata": {},
   "outputs": [],
   "source": [
    "a=np.array([1,2,3,4,5])\n"
   ]
  },
  {
   "cell_type": "code",
   "execution_count": 63,
   "id": "dd959b11",
   "metadata": {},
   "outputs": [
    {
     "data": {
      "text/plain": [
       "35"
      ]
     },
     "execution_count": 63,
     "metadata": {},
     "output_type": "execute_result"
    }
   ],
   "source": [
    "# inner\n",
    "np.inner(a,b)"
   ]
  },
  {
   "cell_type": "code",
   "execution_count": 64,
   "id": "39663f7d",
   "metadata": {},
   "outputs": [
    {
     "data": {
      "text/plain": [
       "array([[ 5,  4,  3,  2,  1],\n",
       "       [10,  8,  6,  4,  2],\n",
       "       [15, 12,  9,  6,  3],\n",
       "       [20, 16, 12,  8,  4],\n",
       "       [25, 20, 15, 10,  5]])"
      ]
     },
     "execution_count": 64,
     "metadata": {},
     "output_type": "execute_result"
    }
   ],
   "source": [
    "np.outer(a,b)"
   ]
  },
  {
   "cell_type": "code",
   "execution_count": 65,
   "id": "08166560",
   "metadata": {},
   "outputs": [
    {
     "data": {
      "text/plain": [
       "array([[ 5, 10, 15, 20, 25],\n",
       "       [ 4,  8, 12, 16, 20],\n",
       "       [ 3,  6,  9, 12, 15],\n",
       "       [ 2,  4,  6,  8, 10],\n",
       "       [ 1,  2,  3,  4,  5]])"
      ]
     },
     "execution_count": 65,
     "metadata": {},
     "output_type": "execute_result"
    }
   ],
   "source": [
    "np.outer(b,a)"
   ]
  },
  {
   "cell_type": "code",
   "execution_count": 66,
   "id": "ec3a67a1",
   "metadata": {},
   "outputs": [
    {
     "data": {
      "text/plain": [
       "35"
      ]
     },
     "execution_count": 66,
     "metadata": {},
     "output_type": "execute_result"
    }
   ],
   "source": [
    "np.inner(b,a)\n",
    "# sum of above diagonals"
   ]
  },
  {
   "cell_type": "code",
   "execution_count": 67,
   "id": "b030a831",
   "metadata": {},
   "outputs": [
    {
     "data": {
      "text/plain": [
       "array([ 1, 50,  2,  3,  4,  5, 50])"
      ]
     },
     "execution_count": 67,
     "metadata": {},
     "output_type": "execute_result"
    }
   ],
   "source": [
    "# insert\n",
    "np.insert(a,[1,5],50)"
   ]
  },
  {
   "cell_type": "code",
   "execution_count": 68,
   "id": "0ccb45e7",
   "metadata": {},
   "outputs": [
    {
     "data": {
      "text/plain": [
       "array([1, 2, 3, 4, 5])"
      ]
     },
     "execution_count": 68,
     "metadata": {},
     "output_type": "execute_result"
    }
   ],
   "source": [
    "a"
   ]
  },
  {
   "cell_type": "code",
   "execution_count": 69,
   "id": "0a6fbed7",
   "metadata": {},
   "outputs": [
    {
     "data": {
      "text/plain": [
       "array([False, False, False, False, False])"
      ]
     },
     "execution_count": 69,
     "metadata": {},
     "output_type": "execute_result"
    }
   ],
   "source": [
    "np.iscomplex(a)"
   ]
  },
  {
   "cell_type": "code",
   "execution_count": 70,
   "id": "9b2f288c",
   "metadata": {},
   "outputs": [
    {
     "data": {
      "text/plain": [
       "False"
      ]
     },
     "execution_count": 70,
     "metadata": {},
     "output_type": "execute_result"
    }
   ],
   "source": [
    "np.iscomplexobj(a)"
   ]
  },
  {
   "cell_type": "code",
   "execution_count": 71,
   "id": "6421de37",
   "metadata": {},
   "outputs": [
    {
     "data": {
      "text/plain": [
       "array([0.  , 0.25, 0.5 , 0.75, 1.  ])"
      ]
     },
     "execution_count": 71,
     "metadata": {},
     "output_type": "execute_result"
    }
   ],
   "source": [
    "# linspace means evenly spaced variables\n",
    "np.linspace(0,1,5)"
   ]
  },
  {
   "cell_type": "code",
   "execution_count": 72,
   "id": "b5f44e01",
   "metadata": {},
   "outputs": [
    {
     "data": {
      "text/plain": [
       "array([ 0.        ,  6.66666667, 13.33333333, 20.        , 26.66666667,\n",
       "       33.33333333, 40.        , 46.66666667, 53.33333333, 60.        ,\n",
       "       66.66666667, 73.33333333, 80.        , 86.66666667, 93.33333333])"
      ]
     },
     "execution_count": 72,
     "metadata": {},
     "output_type": "execute_result"
    }
   ],
   "source": [
    "np.linspace(0,100,15,endpoint=False) # endpoint will remove the endpoint"
   ]
  },
  {
   "cell_type": "code",
   "execution_count": 73,
   "id": "815e24b0",
   "metadata": {},
   "outputs": [
    {
     "data": {
      "text/plain": [
       "(array([ 0.        ,  6.66666667, 13.33333333, 20.        , 26.66666667,\n",
       "        33.33333333, 40.        , 46.66666667, 53.33333333, 60.        ,\n",
       "        66.66666667, 73.33333333, 80.        , 86.66666667, 93.33333333]),\n",
       " 6.666666666666667)"
      ]
     },
     "execution_count": 73,
     "metadata": {},
     "output_type": "execute_result"
    }
   ],
   "source": [
    "np.linspace(0,100,15,endpoint=False,retstep=True) # retstep gives you the second element or first index element"
   ]
  },
  {
   "cell_type": "code",
   "execution_count": 74,
   "id": "6cf32c3a",
   "metadata": {},
   "outputs": [
    {
     "data": {
      "text/plain": [
       "array([1.e+00, 1.e+01, 1.e+02, 1.e+03, 1.e+04, 1.e+05])"
      ]
     },
     "execution_count": 74,
     "metadata": {},
     "output_type": "execute_result"
    }
   ],
   "source": [
    "np.logspace(0,5,6)"
   ]
  },
  {
   "cell_type": "code",
   "execution_count": 75,
   "id": "41967205",
   "metadata": {},
   "outputs": [
    {
     "data": {
      "text/plain": [
       "array([1, 2, 3, 4, 5])"
      ]
     },
     "execution_count": 75,
     "metadata": {},
     "output_type": "execute_result"
    }
   ],
   "source": [
    "# matrix \n",
    "a"
   ]
  },
  {
   "cell_type": "code",
   "execution_count": 76,
   "id": "85407ed4",
   "metadata": {},
   "outputs": [
    {
     "data": {
      "text/plain": [
       "matrix([[1, 2, 3, 4, 5]])"
      ]
     },
     "execution_count": 76,
     "metadata": {},
     "output_type": "execute_result"
    }
   ],
   "source": [
    "np.mat(a)"
   ]
  },
  {
   "cell_type": "code",
   "execution_count": 77,
   "id": "443f7a7f",
   "metadata": {},
   "outputs": [
    {
     "data": {
      "text/plain": [
       "matrix([[1, 2, 3, 4, 5]])"
      ]
     },
     "execution_count": 77,
     "metadata": {},
     "output_type": "execute_result"
    }
   ],
   "source": [
    "np.matrix(a)"
   ]
  },
  {
   "cell_type": "code",
   "execution_count": 78,
   "id": "6531a518",
   "metadata": {},
   "outputs": [
    {
     "data": {
      "text/plain": [
       "5"
      ]
     },
     "execution_count": 78,
     "metadata": {},
     "output_type": "execute_result"
    }
   ],
   "source": [
    "np.max(a)"
   ]
  },
  {
   "cell_type": "code",
   "execution_count": 79,
   "id": "f91694d1",
   "metadata": {},
   "outputs": [
    {
     "data": {
      "text/plain": [
       "array([5, 4, 3, 4, 5])"
      ]
     },
     "execution_count": 79,
     "metadata": {},
     "output_type": "execute_result"
    }
   ],
   "source": [
    "np.maximum(a,b) # compare each element with another array elemetn"
   ]
  },
  {
   "cell_type": "code",
   "execution_count": 80,
   "id": "208ff149",
   "metadata": {},
   "outputs": [
    {
     "data": {
      "text/plain": [
       "1"
      ]
     },
     "execution_count": 80,
     "metadata": {},
     "output_type": "execute_result"
    }
   ],
   "source": [
    "np.min(a)"
   ]
  },
  {
   "cell_type": "code",
   "execution_count": 81,
   "id": "ddb3af93",
   "metadata": {},
   "outputs": [
    {
     "data": {
      "text/plain": [
       "array([1, 2, 3, 2, 1])"
      ]
     },
     "execution_count": 81,
     "metadata": {},
     "output_type": "execute_result"
    }
   ],
   "source": [
    "np.minimum(a,b)"
   ]
  },
  {
   "cell_type": "code",
   "execution_count": 82,
   "id": "81d1840d",
   "metadata": {},
   "outputs": [
    {
     "data": {
      "text/plain": [
       "1"
      ]
     },
     "execution_count": 82,
     "metadata": {},
     "output_type": "execute_result"
    }
   ],
   "source": [
    "# dimesnion\n",
    "np.ndim(a)"
   ]
  },
  {
   "cell_type": "code",
   "execution_count": 83,
   "id": "cd138adf",
   "metadata": {},
   "outputs": [
    {
     "data": {
      "text/plain": [
       "2"
      ]
     },
     "execution_count": 83,
     "metadata": {},
     "output_type": "execute_result"
    }
   ],
   "source": [
    "np.ndim(m)"
   ]
  },
  {
   "cell_type": "code",
   "execution_count": 84,
   "id": "81dedc94",
   "metadata": {},
   "outputs": [
    {
     "data": {
      "text/plain": [
       "<numpy.ndindex at 0x7f1a8037ae60>"
      ]
     },
     "execution_count": 84,
     "metadata": {},
     "output_type": "execute_result"
    }
   ],
   "source": [
    "np.ndindex(4)"
   ]
  },
  {
   "cell_type": "code",
   "execution_count": 85,
   "id": "8cf94268",
   "metadata": {},
   "outputs": [
    {
     "data": {
      "text/plain": [
       "<numpy.ndindex at 0x7f1a8037ba00>"
      ]
     },
     "execution_count": 85,
     "metadata": {},
     "output_type": "execute_result"
    }
   ],
   "source": [
    "np.ndindex(5)"
   ]
  },
  {
   "cell_type": "code",
   "execution_count": 86,
   "id": "5f1862fb",
   "metadata": {},
   "outputs": [
    {
     "data": {
      "text/plain": [
       "4"
      ]
     },
     "execution_count": 86,
     "metadata": {},
     "output_type": "execute_result"
    }
   ],
   "source": [
    "np.ptp(a)"
   ]
  },
  {
   "cell_type": "code",
   "execution_count": 87,
   "id": "e82a50b3",
   "metadata": {},
   "outputs": [
    {
     "data": {
      "text/plain": [
       "4"
      ]
     },
     "execution_count": 87,
     "metadata": {},
     "output_type": "execute_result"
    }
   ],
   "source": [
    "np.ptp(b)"
   ]
  },
  {
   "cell_type": "code",
   "execution_count": 88,
   "id": "1e5f598c",
   "metadata": {},
   "outputs": [
    {
     "data": {
      "text/plain": [
       "88"
      ]
     },
     "execution_count": 88,
     "metadata": {},
     "output_type": "execute_result"
    }
   ],
   "source": [
    "np.ptp(m)"
   ]
  },
  {
   "cell_type": "code",
   "execution_count": 89,
   "id": "c5030cea",
   "metadata": {},
   "outputs": [
    {
     "data": {
      "text/plain": [
       "array([6, 7, 8, 4, 5])"
      ]
     },
     "execution_count": 89,
     "metadata": {},
     "output_type": "execute_result"
    }
   ],
   "source": [
    "# put will change the values \n",
    "a.put([0,1,2],[6,7,8])\n",
    "a"
   ]
  },
  {
   "cell_type": "code",
   "execution_count": 90,
   "id": "a683d42f",
   "metadata": {},
   "outputs": [
    {
     "data": {
      "text/plain": [
       "array([0.07791958, 0.73975926, 0.46057798, 0.11079485])"
      ]
     },
     "execution_count": 90,
     "metadata": {},
     "output_type": "execute_result"
    }
   ],
   "source": [
    "np.random.rand(4)"
   ]
  },
  {
   "cell_type": "code",
   "execution_count": 91,
   "id": "53cf9538",
   "metadata": {},
   "outputs": [
    {
     "data": {
      "text/plain": [
       "array([ 0.20965842, -0.80631367,  0.0149121 ,  0.24672978])"
      ]
     },
     "execution_count": 91,
     "metadata": {},
     "output_type": "execute_result"
    }
   ],
   "source": [
    "np.random.randn(4)"
   ]
  },
  {
   "cell_type": "code",
   "execution_count": 92,
   "id": "ab98cf9c",
   "metadata": {},
   "outputs": [
    {
     "data": {
      "text/plain": [
       "2"
      ]
     },
     "execution_count": 92,
     "metadata": {},
     "output_type": "execute_result"
    }
   ],
   "source": [
    "np.random.randint(4)"
   ]
  },
  {
   "cell_type": "code",
   "execution_count": 93,
   "id": "b8c80ede",
   "metadata": {},
   "outputs": [
    {
     "data": {
      "text/plain": [
       "30"
      ]
     },
     "execution_count": 93,
     "metadata": {},
     "output_type": "execute_result"
    }
   ],
   "source": [
    "np.add.reduce(a)"
   ]
  },
  {
   "cell_type": "code",
   "execution_count": 94,
   "id": "74a5863c",
   "metadata": {},
   "outputs": [
    {
     "data": {
      "text/plain": [
       "6720"
      ]
     },
     "execution_count": 94,
     "metadata": {},
     "output_type": "execute_result"
    }
   ],
   "source": [
    "np.multiply.reduce(a)"
   ]
  },
  {
   "cell_type": "code",
   "execution_count": 95,
   "id": "eb7767a7",
   "metadata": {},
   "outputs": [
    {
     "data": {
      "text/plain": [
       "array([7, 7, 7, 7])"
      ]
     },
     "execution_count": 95,
     "metadata": {},
     "output_type": "execute_result"
    }
   ],
   "source": [
    "# repeat will repeat the values\n",
    "np.repeat(7,4) # repeat 7 four times"
   ]
  },
  {
   "cell_type": "code",
   "execution_count": 96,
   "id": "9c0881e2",
   "metadata": {},
   "outputs": [
    {
     "data": {
      "text/plain": [
       "array([[10, 10, 10, 10, 10, 10, 10, 10, 10, 10],\n",
       "       [10, 10, 10, 10, 10, 10, 10, 10, 10, 10],\n",
       "       [10, 10, 10, 10, 10, 10, 10, 10, 10, 10],\n",
       "       [10, 10, 10, 10, 10, 10, 10, 10, 10, 10],\n",
       "       [10, 10, 10, 10, 10, 10, 10, 10, 10, 10],\n",
       "       [10, 10, 10, 10, 10, 10, 10, 10, 10, 10],\n",
       "       [10, 10, 10, 10, 10, 10, 10, 10, 10, 10],\n",
       "       [10, 10, 10, 10, 10, 10, 10, 10, 10, 10],\n",
       "       [10, 10, 10, 10, 10, 10, 10, 10, 10, 10],\n",
       "       [10, 10, 10, 10, 10, 10, 10, 10, 10, 10]])"
      ]
     },
     "execution_count": 96,
     "metadata": {},
     "output_type": "execute_result"
    }
   ],
   "source": [
    "np.repeat(10,100).reshape(10,10)"
   ]
  },
  {
   "cell_type": "code",
   "execution_count": 97,
   "id": "a853c27f",
   "metadata": {},
   "outputs": [
    {
     "data": {
      "text/plain": [
       "array([[[[ 1,  2,  3]],\n",
       "\n",
       "        [[56, 78, 89]],\n",
       "\n",
       "        [[23, 34, 53]]]])"
      ]
     },
     "execution_count": 97,
     "metadata": {},
     "output_type": "execute_result"
    }
   ],
   "source": [
    "np.resize(m,(1,3,1,3))"
   ]
  },
  {
   "cell_type": "code",
   "execution_count": 98,
   "id": "7d82e4e0",
   "metadata": {},
   "outputs": [
    {
     "name": "stdout",
     "output_type": "stream",
     "text": [
      "[[ 1  2  3]\n",
      " [56 78 89]\n",
      " [23 34 53]]\n",
      "\n",
      "\n"
     ]
    },
    {
     "data": {
      "text/plain": [
       "matrix([[ 3, 89, 53],\n",
       "        [ 2, 78, 34],\n",
       "        [ 1, 56, 23]])"
      ]
     },
     "execution_count": 98,
     "metadata": {},
     "output_type": "execute_result"
    }
   ],
   "source": [
    "# if you wanna rotate matrix you can by rot90\n",
    "print(m)\n",
    "print()\n",
    "print()\n",
    "np.rot90(m)"
   ]
  },
  {
   "cell_type": "code",
   "execution_count": 99,
   "id": "85bc40bd",
   "metadata": {},
   "outputs": [
    {
     "data": {
      "text/plain": [
       "array([6, 7, 8, 4, 5])"
      ]
     },
     "execution_count": 99,
     "metadata": {},
     "output_type": "execute_result"
    }
   ],
   "source": [
    "a"
   ]
  },
  {
   "cell_type": "code",
   "execution_count": 100,
   "id": "dd0ce106",
   "metadata": {},
   "outputs": [
    {
     "data": {
      "text/plain": [
       "array([6, 4, 5, 7, 4, 4, 4, 9, 9, 7])"
      ]
     },
     "execution_count": 100,
     "metadata": {},
     "output_type": "execute_result"
    }
   ],
   "source": [
    "# seed wil fix the values\n",
    "np.random.seed(3)\n",
    "np.random.randint(4,10,10)"
   ]
  },
  {
   "cell_type": "code",
   "execution_count": 101,
   "id": "eafe272a",
   "metadata": {},
   "outputs": [
    {
     "data": {
      "text/plain": [
       "array([6, 7, 8, 4, 5, 6, 7, 8, 4, 5])"
      ]
     },
     "execution_count": 101,
     "metadata": {},
     "output_type": "execute_result"
    }
   ],
   "source": [
    "np.tile(a,2)"
   ]
  },
  {
   "cell_type": "code",
   "execution_count": 102,
   "id": "364f98bf",
   "metadata": {},
   "outputs": [],
   "source": [
    "# swapaxes is also there to swap the axis"
   ]
  },
  {
   "cell_type": "code",
   "execution_count": 103,
   "id": "356b8ecf",
   "metadata": {},
   "outputs": [
    {
     "data": {
      "text/plain": [
       "array([[1., 0., 0., 0.],\n",
       "       [1., 1., 0., 0.],\n",
       "       [1., 1., 1., 0.]])"
      ]
     },
     "execution_count": 103,
     "metadata": {},
     "output_type": "execute_result"
    }
   ],
   "source": [
    "np.tri(3,4,k=0)"
   ]
  },
  {
   "cell_type": "code",
   "execution_count": 104,
   "id": "ef74ae87",
   "metadata": {},
   "outputs": [
    {
     "data": {
      "text/plain": [
       "array([[1., 1., 0., 0.],\n",
       "       [1., 1., 1., 0.],\n",
       "       [1., 1., 1., 1.]])"
      ]
     },
     "execution_count": 104,
     "metadata": {},
     "output_type": "execute_result"
    }
   ],
   "source": [
    "np.tri(3,4,k=1)"
   ]
  },
  {
   "cell_type": "code",
   "execution_count": 105,
   "id": "f46efb21",
   "metadata": {},
   "outputs": [
    {
     "data": {
      "text/plain": [
       "array([[1., 1., 1., 0.],\n",
       "       [1., 1., 1., 1.],\n",
       "       [1., 1., 1., 1.]])"
      ]
     },
     "execution_count": 105,
     "metadata": {},
     "output_type": "execute_result"
    }
   ],
   "source": [
    "np.tri(3,4,k=2)"
   ]
  },
  {
   "cell_type": "code",
   "execution_count": 106,
   "id": "651810e9",
   "metadata": {},
   "outputs": [
    {
     "data": {
      "text/plain": [
       "array([[1., 1., 0., 0.],\n",
       "       [1., 1., 1., 0.],\n",
       "       [1., 1., 1., 1.]])"
      ]
     },
     "execution_count": 106,
     "metadata": {},
     "output_type": "execute_result"
    }
   ],
   "source": [
    "np.tri(3,4,k=1)"
   ]
  },
  {
   "cell_type": "code",
   "execution_count": 107,
   "id": "c5766c34",
   "metadata": {},
   "outputs": [
    {
     "data": {
      "text/plain": [
       "array([6, 7, 8, 4, 5])"
      ]
     },
     "execution_count": 107,
     "metadata": {},
     "output_type": "execute_result"
    }
   ],
   "source": [
    "# trim zeros\n",
    "np.trim_zeros(a)"
   ]
  },
  {
   "cell_type": "code",
   "execution_count": 108,
   "id": "587fb3dd",
   "metadata": {},
   "outputs": [
    {
     "name": "stdout",
     "output_type": "stream",
     "text": [
      "[ 0  0  0  0  1  2  3  4  5  0  2 40 56  0  0  0  0]\n"
     ]
    }
   ],
   "source": [
    "a=np.array([0,0,0,0,1,2,3,4,5,0,2,40,56,0,0,0,0])\n",
    "print(a)"
   ]
  },
  {
   "cell_type": "code",
   "execution_count": 109,
   "id": "8d6e6740",
   "metadata": {},
   "outputs": [
    {
     "data": {
      "text/plain": [
       "array([ 1,  2,  3,  4,  5,  0,  2, 40, 56])"
      ]
     },
     "execution_count": 109,
     "metadata": {},
     "output_type": "execute_result"
    }
   ],
   "source": [
    "np.trim_zeros(a)"
   ]
  },
  {
   "cell_type": "code",
   "execution_count": 110,
   "id": "f5d7d2fe",
   "metadata": {},
   "outputs": [
    {
     "data": {
      "text/plain": [
       "array([ 1,  2,  3,  4,  5,  0,  2, 40, 56,  0,  0,  0,  0])"
      ]
     },
     "execution_count": 110,
     "metadata": {},
     "output_type": "execute_result"
    }
   ],
   "source": [
    "np.trim_zeros(a,'f') # f means trim zeros from front"
   ]
  },
  {
   "cell_type": "code",
   "execution_count": 111,
   "id": "35a26f74",
   "metadata": {},
   "outputs": [
    {
     "data": {
      "text/plain": [
       "array([ 0,  0,  0,  0,  1,  2,  3,  4,  5,  0,  2, 40, 56])"
      ]
     },
     "execution_count": 111,
     "metadata": {},
     "output_type": "execute_result"
    }
   ],
   "source": [
    "np.trim_zeros(a,'b') # b means trim zeros from back"
   ]
  },
  {
   "cell_type": "code",
   "execution_count": 112,
   "id": "faa4d740",
   "metadata": {},
   "outputs": [
    {
     "data": {
      "text/plain": [
       "array([ 1,  2,  3,  4,  5,  0,  2, 40, 56])"
      ]
     },
     "execution_count": 112,
     "metadata": {},
     "output_type": "execute_result"
    }
   ],
   "source": [
    "np.trim_zeros(a,'bf') # bf means back and front"
   ]
  },
  {
   "cell_type": "code",
   "execution_count": 113,
   "id": "4600b7c5",
   "metadata": {},
   "outputs": [
    {
     "data": {
      "text/plain": [
       "array([ 0,  0,  0,  0,  1,  2,  3,  4,  5,  0,  2, 40, 56,  0,  0,  0,  0])"
      ]
     },
     "execution_count": 113,
     "metadata": {},
     "output_type": "execute_result"
    }
   ],
   "source": [
    "# transpose of a matrix\n",
    "a.T"
   ]
  },
  {
   "cell_type": "code",
   "execution_count": 114,
   "id": "8a343f11",
   "metadata": {},
   "outputs": [
    {
     "name": "stdout",
     "output_type": "stream",
     "text": [
      "[[ 1  2  3]\n",
      " [56 78 89]\n",
      " [23 34 53]]\n"
     ]
    },
    {
     "data": {
      "text/plain": [
       "matrix([[ 1, 56, 23],\n",
       "        [ 2, 78, 34],\n",
       "        [ 3, 89, 53]])"
      ]
     },
     "execution_count": 114,
     "metadata": {},
     "output_type": "execute_result"
    }
   ],
   "source": [
    "print(m)\n",
    "m.T"
   ]
  },
  {
   "cell_type": "code",
   "execution_count": 115,
   "id": "d4e822cb",
   "metadata": {},
   "outputs": [
    {
     "data": {
      "text/plain": [
       "matrix([[ 1, 56, 23],\n",
       "        [ 2, 78, 34],\n",
       "        [ 3, 89, 53]])"
      ]
     },
     "execution_count": 115,
     "metadata": {},
     "output_type": "execute_result"
    }
   ],
   "source": [
    "np.transpose(m)"
   ]
  },
  {
   "cell_type": "code",
   "execution_count": 116,
   "id": "1a675c75",
   "metadata": {},
   "outputs": [
    {
     "data": {
      "text/plain": [
       "array([0, 0, 5, 0, 0, 2, 0])"
      ]
     },
     "execution_count": 116,
     "metadata": {},
     "output_type": "execute_result"
    }
   ],
   "source": [
    "# take will take out the values from the arrat\n",
    "a.take([0,0,8,2,3,5,2]) "
   ]
  },
  {
   "cell_type": "code",
   "execution_count": 117,
   "id": "9886210c",
   "metadata": {},
   "outputs": [
    {
     "data": {
      "text/plain": [
       "237.87543252595157"
      ]
     },
     "execution_count": 117,
     "metadata": {},
     "output_type": "execute_result"
    }
   ],
   "source": [
    "# variance of a\n",
    "np.var(a)"
   ]
  },
  {
   "cell_type": "code",
   "execution_count": 118,
   "id": "75038f34",
   "metadata": {},
   "outputs": [
    {
     "data": {
      "text/plain": [
       "15.423210837110137"
      ]
     },
     "execution_count": 118,
     "metadata": {},
     "output_type": "execute_result"
    }
   ],
   "source": [
    "# standard variance of a\n",
    "np.std(a)"
   ]
  },
  {
   "cell_type": "code",
   "execution_count": 119,
   "id": "45379752",
   "metadata": {},
   "outputs": [
    {
     "data": {
      "text/plain": [
       "6.647058823529412"
      ]
     },
     "execution_count": 119,
     "metadata": {},
     "output_type": "execute_result"
    }
   ],
   "source": [
    "np.mean(a)"
   ]
  },
  {
   "cell_type": "code",
   "execution_count": 120,
   "id": "1db57a17",
   "metadata": {},
   "outputs": [
    {
     "data": {
      "text/plain": [
       "0.0"
      ]
     },
     "execution_count": 120,
     "metadata": {},
     "output_type": "execute_result"
    }
   ],
   "source": [
    "np.median(a)"
   ]
  },
  {
   "cell_type": "code",
   "execution_count": 121,
   "id": "fc6b8657",
   "metadata": {},
   "outputs": [
    {
     "data": {
      "text/plain": [
       "array([ 0,  0,  0,  0,  1,  2,  3,  4,  5,  0,  2, 40, 56,  0,  0,  0,  0])"
      ]
     },
     "execution_count": 121,
     "metadata": {},
     "output_type": "execute_result"
    }
   ],
   "source": [
    "# view will show you the array\n",
    "a.view()"
   ]
  },
  {
   "cell_type": "code",
   "execution_count": 122,
   "id": "146da1bc",
   "metadata": {},
   "outputs": [
    {
     "data": {
      "text/plain": [
       "array([ 0,  1,  2,  3,  4,  5, 40, 56])"
      ]
     },
     "execution_count": 122,
     "metadata": {},
     "output_type": "execute_result"
    }
   ],
   "source": [
    "# unique will give the unique values and remove the repeated values\n",
    "np.unique(a)"
   ]
  },
  {
   "cell_type": "code",
   "execution_count": 123,
   "id": "bb22cf75",
   "metadata": {},
   "outputs": [
    {
     "data": {
      "text/plain": [
       "array([ 1.,  2., -1.,  4.,  5.,  1.])"
      ]
     },
     "execution_count": 123,
     "metadata": {},
     "output_type": "execute_result"
    }
   ],
   "source": [
    "np.trunc(ceil)"
   ]
  },
  {
   "cell_type": "code",
   "execution_count": 124,
   "id": "38ddefd5",
   "metadata": {},
   "outputs": [
    {
     "data": {
      "text/plain": [
       "array([3.])"
      ]
     },
     "execution_count": 124,
     "metadata": {},
     "output_type": "execute_result"
    }
   ],
   "source": [
    "np.trunc([3.2]) # truncate remove the point value"
   ]
  },
  {
   "cell_type": "code",
   "execution_count": 125,
   "id": "0605de8b",
   "metadata": {},
   "outputs": [
    {
     "data": {
      "text/plain": [
       "array([3.])"
      ]
     },
     "execution_count": 125,
     "metadata": {},
     "output_type": "execute_result"
    }
   ],
   "source": [
    "np.trunc([3.9])"
   ]
  }
 ],
 "metadata": {
  "kernelspec": {
   "display_name": "Python 3 (ipykernel)",
   "language": "python",
   "name": "python3"
  },
  "language_info": {
   "codemirror_mode": {
    "name": "ipython",
    "version": 3
   },
   "file_extension": ".py",
   "mimetype": "text/x-python",
   "name": "python",
   "nbconvert_exporter": "python",
   "pygments_lexer": "ipython3",
   "version": "3.10.12"
  }
 },
 "nbformat": 4,
 "nbformat_minor": 5
}
