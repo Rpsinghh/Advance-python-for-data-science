{
 "cells": [
  {
   "cell_type": "code",
   "execution_count": 1,
   "id": "7be82080",
   "metadata": {},
   "outputs": [],
   "source": [
    "import numpy as np\n",
    "import pandas as pd \n"
   ]
  },
  {
   "cell_type": "code",
   "execution_count": 2,
   "id": "7c4be14b",
   "metadata": {},
   "outputs": [
    {
     "data": {
      "text/plain": [
       "['Harry', 'Ravisha', 'Preet', 'Sanjana', 'Arjun']"
      ]
     },
     "execution_count": 2,
     "metadata": {},
     "output_type": "execute_result"
    }
   ],
   "source": [
    "data=['harry','ravisha','preet','sanjana','arjun']\n",
    "[i.capitalize() for i in data]"
   ]
  },
  {
   "cell_type": "code",
   "execution_count": 3,
   "id": "342d8d35",
   "metadata": {},
   "outputs": [
    {
     "data": {
      "text/plain": [
       "['HARRY', 'RAVISHA', 'PREET', 'SANJANA', 'ARJUN']"
      ]
     },
     "execution_count": 3,
     "metadata": {},
     "output_type": "execute_result"
    }
   ],
   "source": [
    "[i.upper() for i in data]"
   ]
  },
  {
   "cell_type": "code",
   "execution_count": 4,
   "id": "f902f638",
   "metadata": {},
   "outputs": [
    {
     "data": {
      "text/plain": [
       "[None, 'ravisha', 'preet', 'sanjana', 'arjun']"
      ]
     },
     "execution_count": 4,
     "metadata": {},
     "output_type": "execute_result"
    }
   ],
   "source": [
    "# if data contains any null values then that will give error\n",
    "data[0]=None\n",
    "data"
   ]
  },
  {
   "cell_type": "code",
   "execution_count": 6,
   "id": "f5026c84",
   "metadata": {},
   "outputs": [],
   "source": [
    "# [i.captialize() for i in data]\n",
    "# it gives error so run it for your query"
   ]
  },
  {
   "cell_type": "code",
   "execution_count": 7,
   "id": "b5824c64",
   "metadata": {},
   "outputs": [
    {
     "data": {
      "text/plain": [
       "['peter parker', 'ravisha', 'preet', 'sanjana', 'arjun']"
      ]
     },
     "execution_count": 7,
     "metadata": {},
     "output_type": "execute_result"
    }
   ],
   "source": [
    "data[0]='peter parker'\n",
    "data"
   ]
  },
  {
   "cell_type": "code",
   "execution_count": 8,
   "id": "7806c209",
   "metadata": {},
   "outputs": [
    {
     "data": {
      "text/plain": [
       "0    peter parker\n",
       "1         ravisha\n",
       "2           preet\n",
       "3         sanjana\n",
       "4           arjun\n",
       "dtype: object"
      ]
     },
     "execution_count": 8,
     "metadata": {},
     "output_type": "execute_result"
    }
   ],
   "source": [
    "names=pd.Series(data)\n",
    "names"
   ]
  },
  {
   "cell_type": "code",
   "execution_count": 9,
   "id": "76fa04c8",
   "metadata": {},
   "outputs": [
    {
     "data": {
      "text/plain": [
       "0    Peter parker\n",
       "1         Ravisha\n",
       "2           Preet\n",
       "3         Sanjana\n",
       "4           Arjun\n",
       "dtype: object"
      ]
     },
     "execution_count": 9,
     "metadata": {},
     "output_type": "execute_result"
    }
   ],
   "source": [
    "# string funtions in pandas\n",
    "names.str.capitalize()"
   ]
  },
  {
   "cell_type": "code",
   "execution_count": 10,
   "id": "eddfe368",
   "metadata": {},
   "outputs": [
    {
     "data": {
      "text/plain": [
       "0    PETER PARKER\n",
       "1         RAVISHA\n",
       "2           PREET\n",
       "3         SANJANA\n",
       "4           ARJUN\n",
       "dtype: object"
      ]
     },
     "execution_count": 10,
     "metadata": {},
     "output_type": "execute_result"
    }
   ],
   "source": [
    "names.str.upper()"
   ]
  },
  {
   "cell_type": "code",
   "execution_count": 11,
   "id": "40201126",
   "metadata": {},
   "outputs": [
    {
     "data": {
      "text/plain": [
       "0    peter parker\n",
       "1         ravisha\n",
       "2           preet\n",
       "3         sanjana\n",
       "4           arjun\n",
       "dtype: object"
      ]
     },
     "execution_count": 11,
     "metadata": {},
     "output_type": "execute_result"
    }
   ],
   "source": [
    "names.str.lower()"
   ]
  },
  {
   "cell_type": "code",
   "execution_count": 12,
   "id": "0b99f73d",
   "metadata": {},
   "outputs": [
    {
     "data": {
      "text/plain": [
       "0    Peter Parker\n",
       "1         Ravisha\n",
       "2           Preet\n",
       "3         Sanjana\n",
       "4           Arjun\n",
       "dtype: object"
      ]
     },
     "execution_count": 12,
     "metadata": {},
     "output_type": "execute_result"
    }
   ],
   "source": [
    "names.str.title()"
   ]
  },
  {
   "cell_type": "code",
   "execution_count": 13,
   "id": "b9a2e22e",
   "metadata": {},
   "outputs": [
    {
     "name": "stdout",
     "output_type": "stream",
     "text": [
      "\n",
      "\n",
      "        Functions we can on strings\n",
      "        ============================\n",
      "len()\tlower()\ttranslate()\tislower()\n",
      "ljust()\tupper()\tstartswith()\tisupper()\n",
      "rjust()\tfind()\tendswith()\tisnumeric()\n",
      "center()\trfind()\tisalnum()\tisdecimal()\n",
      "zfill()\tindex()\tisalpha()\tsplit()\n",
      "strip()\trindex()\tisdigit()\trsplit()\n",
      "rstrip()\tcapitalize()\tisspace()\tpartition()\n",
      "lstrip()\tswapcase()\tistitle()\trpartition()\n",
      "\n",
      "\n"
     ]
    }
   ],
   "source": [
    "print('''\n",
    "\n",
    "        Functions we can on strings\n",
    "        ============================\n",
    "len()\tlower()\ttranslate()\tislower()\n",
    "ljust()\tupper()\tstartswith()\tisupper()\n",
    "rjust()\tfind()\tendswith()\tisnumeric()\n",
    "center()\trfind()\tisalnum()\tisdecimal()\n",
    "zfill()\tindex()\tisalpha()\tsplit()\n",
    "strip()\trindex()\tisdigit()\trsplit()\n",
    "rstrip()\tcapitalize()\tisspace()\tpartition()\n",
    "lstrip()\tswapcase()\tistitle()\trpartition()\n",
    "\n",
    "''')"
   ]
  },
  {
   "cell_type": "code",
   "execution_count": 17,
   "id": "71e222d7",
   "metadata": {},
   "outputs": [
    {
     "data": {
      "text/plain": [
       "0    peter parker\n",
       "1         ravisha\n",
       "2           preet\n",
       "3         sanjana\n",
       "4           arjun\n",
       "dtype: object"
      ]
     },
     "execution_count": 17,
     "metadata": {},
     "output_type": "execute_result"
    }
   ],
   "source": [
    "names.str.lower()"
   ]
  },
  {
   "cell_type": "code",
   "execution_count": 18,
   "id": "9cc8e9eb",
   "metadata": {},
   "outputs": [
    {
     "data": {
      "text/plain": [
       "0    12\n",
       "1     7\n",
       "2     5\n",
       "3     7\n",
       "4     5\n",
       "dtype: int64"
      ]
     },
     "execution_count": 18,
     "metadata": {},
     "output_type": "execute_result"
    }
   ],
   "source": [
    "names.str.len()"
   ]
  },
  {
   "cell_type": "code",
   "execution_count": 19,
   "id": "e84b03a3",
   "metadata": {},
   "outputs": [
    {
     "data": {
      "text/plain": [
       "0     True\n",
       "1    False\n",
       "2     True\n",
       "3    False\n",
       "4    False\n",
       "dtype: bool"
      ]
     },
     "execution_count": 19,
     "metadata": {},
     "output_type": "execute_result"
    }
   ],
   "source": [
    "names.str.startswith('p')"
   ]
  },
  {
   "cell_type": "code",
   "execution_count": 20,
   "id": "fec6621a",
   "metadata": {},
   "outputs": [
    {
     "data": {
      "text/plain": [
       "0    [peter, parker]\n",
       "1          [ravisha]\n",
       "2            [preet]\n",
       "3          [sanjana]\n",
       "4            [arjun]\n",
       "dtype: object"
      ]
     },
     "execution_count": 20,
     "metadata": {},
     "output_type": "execute_result"
    }
   ],
   "source": [
    "names.str.split()"
   ]
  },
  {
   "cell_type": "code",
   "execution_count": 21,
   "id": "25e535c8",
   "metadata": {},
   "outputs": [
    {
     "name": "stdout",
     "output_type": "stream",
     "text": [
      "\n",
      "\n",
      "         Methods used for regular expression\n",
      "         ===================================\n",
      "         match()\n",
      "         extract()\n",
      "         findall()\n",
      "         replace()\n",
      "         contains()\n",
      "         count()\n",
      "         split()\n",
      "         rsplit()\n",
      "\n",
      "\n"
     ]
    }
   ],
   "source": [
    "print(\"\"\"\n",
    "\n",
    "         Methods used for regular expression\n",
    "         ===================================\n",
    "         match()\n",
    "         extract()\n",
    "         findall()\n",
    "         replace()\n",
    "         contains()\n",
    "         count()\n",
    "         split()\n",
    "         rsplit()\n",
    "\n",
    "\"\"\")"
   ]
  },
  {
   "cell_type": "code",
   "execution_count": 23,
   "id": "68762ed1",
   "metadata": {},
   "outputs": [
    {
     "data": {
      "text/plain": [
       "0    peter pArker\n",
       "1         rAvishA\n",
       "2           preet\n",
       "3         sAnjAnA\n",
       "4           Arjun\n",
       "dtype: object"
      ]
     },
     "execution_count": 23,
     "metadata": {},
     "output_type": "execute_result"
    }
   ],
   "source": [
    "names.str.replace('a','A')"
   ]
  },
  {
   "cell_type": "code",
   "execution_count": 24,
   "id": "f5f11969",
   "metadata": {},
   "outputs": [
    {
     "data": {
      "text/plain": [
       "0    1\n",
       "1    2\n",
       "2    0\n",
       "3    3\n",
       "4    1\n",
       "dtype: int64"
      ]
     },
     "execution_count": 24,
     "metadata": {},
     "output_type": "execute_result"
    }
   ],
   "source": [
    "names.str.count('a')"
   ]
  },
  {
   "cell_type": "code",
   "execution_count": 25,
   "id": "6a82e91f",
   "metadata": {},
   "outputs": [
    {
     "data": {
      "text/plain": [
       "0    [peter p, rker]\n",
       "1        [r, vish, ]\n",
       "2            [preet]\n",
       "3       [s, nj, n, ]\n",
       "4           [, rjun]\n",
       "dtype: object"
      ]
     },
     "execution_count": 25,
     "metadata": {},
     "output_type": "execute_result"
    }
   ],
   "source": [
    "names.str.split('a')"
   ]
  },
  {
   "cell_type": "code",
   "execution_count": 26,
   "id": "41cabc72",
   "metadata": {},
   "outputs": [
    {
     "data": {
      "text/plain": [
       "0    pet\n",
       "1    rav\n",
       "2    pre\n",
       "3    san\n",
       "4    arj\n",
       "dtype: object"
      ]
     },
     "execution_count": 26,
     "metadata": {},
     "output_type": "execute_result"
    }
   ],
   "source": [
    "names.str[0:3]"
   ]
  },
  {
   "cell_type": "code",
   "execution_count": 27,
   "id": "1c3c201c",
   "metadata": {},
   "outputs": [
    {
     "data": {
      "text/plain": [
       "0    [peter, parker]\n",
       "1          [ravisha]\n",
       "2            [preet]\n",
       "3          [sanjana]\n",
       "4            [arjun]\n",
       "dtype: object"
      ]
     },
     "execution_count": 27,
     "metadata": {},
     "output_type": "execute_result"
    }
   ],
   "source": [
    "names.str.split()"
   ]
  },
  {
   "cell_type": "code",
   "execution_count": 28,
   "id": "1d086d9d",
   "metadata": {},
   "outputs": [],
   "source": [
    "names.str.split().get(-1)"
   ]
  },
  {
   "cell_type": "code",
   "execution_count": 29,
   "id": "3d3ad0bd",
   "metadata": {},
   "outputs": [
    {
     "data": {
      "text/plain": [
       "0    peter parker\n",
       "1         ravisha\n",
       "2           preet\n",
       "3         sanjana\n",
       "4           arjun\n",
       "dtype: object"
      ]
     },
     "execution_count": 29,
     "metadata": {},
     "output_type": "execute_result"
    }
   ],
   "source": [
    "names"
   ]
  },
  {
   "cell_type": "code",
   "execution_count": 32,
   "id": "e33875e1",
   "metadata": {},
   "outputs": [
    {
     "data": {
      "text/html": [
       "<div>\n",
       "<style scoped>\n",
       "    .dataframe tbody tr th:only-of-type {\n",
       "        vertical-align: middle;\n",
       "    }\n",
       "\n",
       "    .dataframe tbody tr th {\n",
       "        vertical-align: top;\n",
       "    }\n",
       "\n",
       "    .dataframe thead th {\n",
       "        text-align: right;\n",
       "    }\n",
       "</style>\n",
       "<table border=\"1\" class=\"dataframe\">\n",
       "  <thead>\n",
       "    <tr style=\"text-align: right;\">\n",
       "      <th></th>\n",
       "      <th>name</th>\n",
       "      <th>info</th>\n",
       "    </tr>\n",
       "  </thead>\n",
       "  <tbody>\n",
       "    <tr>\n",
       "      <th>0</th>\n",
       "      <td>peter parker</td>\n",
       "      <td>B|C|D</td>\n",
       "    </tr>\n",
       "    <tr>\n",
       "      <th>1</th>\n",
       "      <td>ravisha</td>\n",
       "      <td>B|D</td>\n",
       "    </tr>\n",
       "    <tr>\n",
       "      <th>2</th>\n",
       "      <td>preet</td>\n",
       "      <td>A|C</td>\n",
       "    </tr>\n",
       "    <tr>\n",
       "      <th>3</th>\n",
       "      <td>sanjana</td>\n",
       "      <td>B|D</td>\n",
       "    </tr>\n",
       "    <tr>\n",
       "      <th>4</th>\n",
       "      <td>arjun</td>\n",
       "      <td>B|C</td>\n",
       "    </tr>\n",
       "  </tbody>\n",
       "</table>\n",
       "</div>"
      ],
      "text/plain": [
       "           name   info\n",
       "0  peter parker  B|C|D\n",
       "1       ravisha    B|D\n",
       "2         preet    A|C\n",
       "3       sanjana    B|D\n",
       "4         arjun    B|C"
      ]
     },
     "execution_count": 32,
     "metadata": {},
     "output_type": "execute_result"
    }
   ],
   "source": [
    "data1 = pd.DataFrame({'name': names,\n",
    "                           'info': ['B|C|D', 'B|D', 'A|C',\n",
    "                                    'B|D', 'B|C']})\n",
    "data1"
   ]
  },
  {
   "cell_type": "code",
   "execution_count": 33,
   "id": "03181ec0",
   "metadata": {},
   "outputs": [
    {
     "data": {
      "text/html": [
       "<div>\n",
       "<style scoped>\n",
       "    .dataframe tbody tr th:only-of-type {\n",
       "        vertical-align: middle;\n",
       "    }\n",
       "\n",
       "    .dataframe tbody tr th {\n",
       "        vertical-align: top;\n",
       "    }\n",
       "\n",
       "    .dataframe thead th {\n",
       "        text-align: right;\n",
       "    }\n",
       "</style>\n",
       "<table border=\"1\" class=\"dataframe\">\n",
       "  <thead>\n",
       "    <tr style=\"text-align: right;\">\n",
       "      <th></th>\n",
       "      <th>A</th>\n",
       "      <th>B</th>\n",
       "      <th>C</th>\n",
       "      <th>D</th>\n",
       "    </tr>\n",
       "  </thead>\n",
       "  <tbody>\n",
       "    <tr>\n",
       "      <th>0</th>\n",
       "      <td>0</td>\n",
       "      <td>1</td>\n",
       "      <td>1</td>\n",
       "      <td>1</td>\n",
       "    </tr>\n",
       "    <tr>\n",
       "      <th>1</th>\n",
       "      <td>0</td>\n",
       "      <td>1</td>\n",
       "      <td>0</td>\n",
       "      <td>1</td>\n",
       "    </tr>\n",
       "    <tr>\n",
       "      <th>2</th>\n",
       "      <td>1</td>\n",
       "      <td>0</td>\n",
       "      <td>1</td>\n",
       "      <td>0</td>\n",
       "    </tr>\n",
       "    <tr>\n",
       "      <th>3</th>\n",
       "      <td>0</td>\n",
       "      <td>1</td>\n",
       "      <td>0</td>\n",
       "      <td>1</td>\n",
       "    </tr>\n",
       "    <tr>\n",
       "      <th>4</th>\n",
       "      <td>0</td>\n",
       "      <td>1</td>\n",
       "      <td>1</td>\n",
       "      <td>0</td>\n",
       "    </tr>\n",
       "  </tbody>\n",
       "</table>\n",
       "</div>"
      ],
      "text/plain": [
       "   A  B  C  D\n",
       "0  0  1  1  1\n",
       "1  0  1  0  1\n",
       "2  1  0  1  0\n",
       "3  0  1  0  1\n",
       "4  0  1  1  0"
      ]
     },
     "execution_count": 33,
     "metadata": {},
     "output_type": "execute_result"
    }
   ],
   "source": [
    "data1['info'].str.get_dummies('|')"
   ]
  },
  {
   "cell_type": "code",
   "execution_count": 34,
   "id": "b1a77dae",
   "metadata": {},
   "outputs": [
    {
     "data": {
      "text/plain": [
       "count     5.000000\n",
       "mean      7.200000\n",
       "std       2.863564\n",
       "min       5.000000\n",
       "25%       5.000000\n",
       "50%       7.000000\n",
       "75%       7.000000\n",
       "max      12.000000\n",
       "dtype: float64"
      ]
     },
     "execution_count": 34,
     "metadata": {},
     "output_type": "execute_result"
    }
   ],
   "source": [
    "names.str.len().describe()"
   ]
  },
  {
   "cell_type": "code",
   "execution_count": 40,
   "id": "2cb13fc7",
   "metadata": {},
   "outputs": [
    {
     "data": {
      "text/plain": [
       "2"
      ]
     },
     "execution_count": 40,
     "metadata": {},
     "output_type": "execute_result"
    }
   ],
   "source": [
    "names.str.contains('p').sum()"
   ]
  },
  {
   "cell_type": "markdown",
   "id": "81401703",
   "metadata": {},
   "source": [
    "# you know Working with Time series is also there"
   ]
  },
  {
   "cell_type": "code",
   "execution_count": 47,
   "id": "2b77363e",
   "metadata": {},
   "outputs": [
    {
     "data": {
      "text/plain": [
       "datetime.datetime(2015, 7, 4, 0, 0)"
      ]
     },
     "execution_count": 47,
     "metadata": {},
     "output_type": "execute_result"
    }
   ],
   "source": [
    "from datetime import datetime\n",
    "datetime(year=2015,month=7,day=4)"
   ]
  },
  {
   "cell_type": "code",
   "execution_count": 51,
   "id": "c50412d2",
   "metadata": {},
   "outputs": [],
   "source": [
    "from dateutil import parser\n",
    "date=parser.parse('4th july of 2023')"
   ]
  },
  {
   "cell_type": "code",
   "execution_count": 52,
   "id": "c245143c",
   "metadata": {},
   "outputs": [
    {
     "data": {
      "text/plain": [
       "'Tuesday'"
      ]
     },
     "execution_count": 52,
     "metadata": {},
     "output_type": "execute_result"
    }
   ],
   "source": [
    "date.strftime('%A')"
   ]
  },
  {
   "cell_type": "code",
   "execution_count": 53,
   "id": "8e948660",
   "metadata": {},
   "outputs": [
    {
     "data": {
      "text/plain": [
       "numpy.datetime64('2015-07-04')"
      ]
     },
     "execution_count": 53,
     "metadata": {},
     "output_type": "execute_result"
    }
   ],
   "source": [
    "# for numpy use np.datetime64\n",
    "np.datetime64('2015-07-04')"
   ]
  },
  {
   "cell_type": "code",
   "execution_count": 55,
   "id": "67d01d1b",
   "metadata": {},
   "outputs": [
    {
     "data": {
      "text/plain": [
       "numpy.datetime64('2023-10-04T09:44')"
      ]
     },
     "execution_count": 55,
     "metadata": {},
     "output_type": "execute_result"
    }
   ],
   "source": [
    "np.datetime64('2023-10-04 09:44')"
   ]
  },
  {
   "cell_type": "code",
   "execution_count": 56,
   "id": "641cb78a",
   "metadata": {},
   "outputs": [
    {
     "data": {
      "text/plain": [
       "numpy.datetime64('2023-10-04T09:44:00.000000000')"
      ]
     },
     "execution_count": 56,
     "metadata": {},
     "output_type": "execute_result"
    }
   ],
   "source": [
    "np.datetime64('2023-10-04 09:44','ns')"
   ]
  },
  {
   "cell_type": "code",
   "execution_count": 57,
   "id": "e4c50aca",
   "metadata": {},
   "outputs": [
    {
     "name": "stdout",
     "output_type": "stream",
     "text": [
      "\n",
      "\n",
      "         date time functions shorts\n",
      "         --------------------------\n",
      "         \n",
      "Y\tYear\n",
      "M\tMonth\n",
      "W\tWeek\n",
      "D\tDay\n",
      "h\tHour\n",
      "m\tMinute\n",
      "s\tSecond\t\n",
      "ms\tMillisecond\n",
      "us\tMicrosecond\n",
      "ns\tNanosecond\n",
      "ps\tPicosecond\n",
      "fs\tFemtosecond\n",
      "as\tAttosecond\n",
      "\n"
     ]
    }
   ],
   "source": [
    "print(\"\"\"\n",
    "\n",
    "         date time functions shorts\n",
    "         --------------------------\n",
    "         \n",
    "Y\tYear\n",
    "M\tMonth\n",
    "W\tWeek\n",
    "D\tDay\n",
    "h\tHour\n",
    "m\tMinute\n",
    "s\tSecond\t\n",
    "ms\tMillisecond\n",
    "us\tMicrosecond\n",
    "ns\tNanosecond\n",
    "ps\tPicosecond\n",
    "fs\tFemtosecond\n",
    "as\tAttosecond\n",
    "\"\"\")"
   ]
  },
  {
   "cell_type": "markdown",
   "id": "92f30f31",
   "metadata": {},
   "source": [
    "# Date and time in pandas"
   ]
  },
  {
   "cell_type": "code",
   "execution_count": 58,
   "id": "3ac3dbfb",
   "metadata": {},
   "outputs": [],
   "source": [
    "import pandas as pd\n",
    "date=pd.to_datetime('4th of october,2023')"
   ]
  },
  {
   "cell_type": "code",
   "execution_count": 59,
   "id": "ea39de82",
   "metadata": {},
   "outputs": [
    {
     "data": {
      "text/plain": [
       "Timestamp('2023-10-04 00:00:00')"
      ]
     },
     "execution_count": 59,
     "metadata": {},
     "output_type": "execute_result"
    }
   ],
   "source": [
    "date"
   ]
  },
  {
   "cell_type": "code",
   "execution_count": 60,
   "id": "b73518eb",
   "metadata": {},
   "outputs": [
    {
     "data": {
      "text/plain": [
       "'Wednesday'"
      ]
     },
     "execution_count": 60,
     "metadata": {},
     "output_type": "execute_result"
    }
   ],
   "source": [
    "date.strftime('%A')"
   ]
  },
  {
   "cell_type": "code",
   "execution_count": 61,
   "id": "36977ef7",
   "metadata": {},
   "outputs": [
    {
     "data": {
      "text/plain": [
       "'00'"
      ]
     },
     "execution_count": 61,
     "metadata": {},
     "output_type": "execute_result"
    }
   ],
   "source": [
    "date.strftime('%M')"
   ]
  },
  {
   "cell_type": "code",
   "execution_count": 62,
   "id": "e422758f",
   "metadata": {},
   "outputs": [
    {
     "data": {
      "text/plain": [
       "'10'"
      ]
     },
     "execution_count": 62,
     "metadata": {},
     "output_type": "execute_result"
    }
   ],
   "source": [
    "date.strftime('%m')"
   ]
  },
  {
   "cell_type": "code",
   "execution_count": 63,
   "id": "68108481",
   "metadata": {},
   "outputs": [
    {
     "data": {
      "text/plain": [
       "'23'"
      ]
     },
     "execution_count": 63,
     "metadata": {},
     "output_type": "execute_result"
    }
   ],
   "source": [
    "date.strftime('%y')"
   ]
  },
  {
   "cell_type": "code",
   "execution_count": 65,
   "id": "b031ac9f",
   "metadata": {},
   "outputs": [
    {
     "data": {
      "text/plain": [
       "'2023'"
      ]
     },
     "execution_count": 65,
     "metadata": {},
     "output_type": "execute_result"
    }
   ],
   "source": [
    "date.strftime('%Y')"
   ]
  },
  {
   "cell_type": "code",
   "execution_count": 66,
   "id": "5cb06c67",
   "metadata": {},
   "outputs": [
    {
     "data": {
      "text/plain": [
       "'10/04/23'"
      ]
     },
     "execution_count": 66,
     "metadata": {},
     "output_type": "execute_result"
    }
   ],
   "source": [
    "date.strftime('%D')"
   ]
  },
  {
   "cell_type": "code",
   "execution_count": 67,
   "id": "dbb4ca1c",
   "metadata": {},
   "outputs": [
    {
     "data": {
      "text/plain": [
       "DatetimeIndex(['2023-10-04', '2023-10-05', '2023-10-06', '2023-10-07',\n",
       "               '2023-10-08', '2023-10-09', '2023-10-10', '2023-10-11',\n",
       "               '2023-10-12', '2023-10-13', '2023-10-14'],\n",
       "              dtype='datetime64[ns]', freq='D')"
      ]
     },
     "execution_count": 67,
     "metadata": {},
     "output_type": "execute_result"
    }
   ],
   "source": [
    "# we can use date_range\n",
    "pd.date_range('2023-10-04','2023-10-14')"
   ]
  },
  {
   "cell_type": "code",
   "execution_count": 68,
   "id": "f70c2b8e",
   "metadata": {},
   "outputs": [
    {
     "data": {
      "text/plain": [
       "DatetimeIndex(['2015-07-03', '2015-07-04', '2015-07-05', '2015-07-06',\n",
       "               '2015-07-07', '2015-07-08', '2015-07-09', '2015-07-10'],\n",
       "              dtype='datetime64[ns]', freq='D')"
      ]
     },
     "execution_count": 68,
     "metadata": {},
     "output_type": "execute_result"
    }
   ],
   "source": [
    "pd.date_range('2015-07-03',periods=8) # periods will changes the day"
   ]
  },
  {
   "cell_type": "code",
   "execution_count": 70,
   "id": "0403254f",
   "metadata": {},
   "outputs": [
    {
     "data": {
      "text/plain": [
       "DatetimeIndex(['2023-10-04 00:00:00', '2023-10-04 01:00:00',\n",
       "               '2023-10-04 02:00:00', '2023-10-04 03:00:00',\n",
       "               '2023-10-04 04:00:00', '2023-10-04 05:00:00',\n",
       "               '2023-10-04 06:00:00', '2023-10-04 07:00:00'],\n",
       "              dtype='datetime64[ns]', freq='H')"
      ]
     },
     "execution_count": 70,
     "metadata": {},
     "output_type": "execute_result"
    }
   ],
   "source": [
    "pd.date_range('2023-10-04',periods=8,freq='H') # freq range of hours"
   ]
  },
  {
   "cell_type": "code",
   "execution_count": 72,
   "id": "74279b81",
   "metadata": {},
   "outputs": [
    {
     "data": {
      "text/plain": [
       "DatetimeIndex(['2023-10-31', '2023-11-30', '2023-12-31', '2024-01-31',\n",
       "               '2024-02-29', '2024-03-31', '2024-04-30', '2024-05-31'],\n",
       "              dtype='datetime64[ns]', freq='M')"
      ]
     },
     "execution_count": 72,
     "metadata": {},
     "output_type": "execute_result"
    }
   ],
   "source": [
    "pd.date_range('2023-10-04',periods=8,freq='M') # months"
   ]
  },
  {
   "cell_type": "code",
   "execution_count": 73,
   "id": "f844bbfc",
   "metadata": {},
   "outputs": [
    {
     "name": "stdout",
     "output_type": "stream",
     "text": [
      "\n",
      "Frequencies:\n",
      "D - Calendar day\n",
      "B - Business day\n",
      "W - Weekly\n",
      "M - Month end  ,BM\n",
      "Q - Quarter end,BQ\n",
      "A - year end\n",
      "H - hours\n",
      "T - minutes\n",
      "S - seconds\n",
      "L - milliseconds\n",
      "U - microseconds\n",
      "N - nanoseconds\n",
      "\n",
      "\n",
      "\n",
      "\n"
     ]
    }
   ],
   "source": [
    "print('''\n",
    "Frequencies:\n",
    "D - Calendar day\n",
    "B - Business day\n",
    "W - Weekly\n",
    "M - Month end  ,BM\n",
    "Q - Quarter end,BQ\n",
    "A - year end\n",
    "H - hours\n",
    "T - minutes\n",
    "S - seconds\n",
    "L - milliseconds\n",
    "U - microseconds\n",
    "N - nanoseconds\n",
    "\n",
    "\n",
    "\n",
    "''')"
   ]
  },
  {
   "cell_type": "code",
   "execution_count": 74,
   "id": "6896133c",
   "metadata": {},
   "outputs": [
    {
     "data": {
      "text/plain": [
       "DatetimeIndex(['2023-10-04 00:00:00', '2023-10-04 02:30:00',\n",
       "               '2023-10-04 05:00:00', '2023-10-04 07:30:00',\n",
       "               '2023-10-04 10:00:00', '2023-10-04 12:30:00',\n",
       "               '2023-10-04 15:00:00', '2023-10-04 17:30:00'],\n",
       "              dtype='datetime64[ns]', freq='150T')"
      ]
     },
     "execution_count": 74,
     "metadata": {},
     "output_type": "execute_result"
    }
   ],
   "source": [
    "# if we use S after M,Q,A then they made month start,quartestart,year start\n",
    "pd.date_range('2023-10-04',periods=8,freq='2H30T') # 2 hours and 30 minutes "
   ]
  },
  {
   "cell_type": "code",
   "execution_count": 75,
   "id": "57be2e81",
   "metadata": {},
   "outputs": [
    {
     "data": {
      "text/plain": [
       "DatetimeIndex(['2023-10-04', '2023-10-05', '2023-10-06', '2023-10-07',\n",
       "               '2023-10-08', '2023-10-09', '2023-10-10', '2023-10-11'],\n",
       "              dtype='datetime64[ns]', freq='D')"
      ]
     },
     "execution_count": 75,
     "metadata": {},
     "output_type": "execute_result"
    }
   ],
   "source": [
    "pd.date_range('2023-10-04',periods=8,freq='D') "
   ]
  },
  {
   "cell_type": "markdown",
   "id": "8f356a4b",
   "metadata": {},
   "source": [
    "# eval and query"
   ]
  },
  {
   "cell_type": "code",
   "execution_count": 79,
   "id": "88a569c2",
   "metadata": {},
   "outputs": [
    {
     "data": {
      "text/html": [
       "<div>\n",
       "<style scoped>\n",
       "    .dataframe tbody tr th:only-of-type {\n",
       "        vertical-align: middle;\n",
       "    }\n",
       "\n",
       "    .dataframe tbody tr th {\n",
       "        vertical-align: top;\n",
       "    }\n",
       "\n",
       "    .dataframe thead th {\n",
       "        text-align: right;\n",
       "    }\n",
       "</style>\n",
       "<table border=\"1\" class=\"dataframe\">\n",
       "  <thead>\n",
       "    <tr style=\"text-align: right;\">\n",
       "      <th></th>\n",
       "      <th>A</th>\n",
       "      <th>B</th>\n",
       "      <th>C</th>\n",
       "    </tr>\n",
       "  </thead>\n",
       "  <tbody>\n",
       "    <tr>\n",
       "      <th>0</th>\n",
       "      <td>0.510485</td>\n",
       "      <td>0.310361</td>\n",
       "      <td>0.434619</td>\n",
       "    </tr>\n",
       "    <tr>\n",
       "      <th>1</th>\n",
       "      <td>0.007353</td>\n",
       "      <td>0.173362</td>\n",
       "      <td>0.069437</td>\n",
       "    </tr>\n",
       "    <tr>\n",
       "      <th>2</th>\n",
       "      <td>0.045508</td>\n",
       "      <td>0.979067</td>\n",
       "      <td>0.262671</td>\n",
       "    </tr>\n",
       "    <tr>\n",
       "      <th>3</th>\n",
       "      <td>0.305224</td>\n",
       "      <td>0.105218</td>\n",
       "      <td>0.148749</td>\n",
       "    </tr>\n",
       "    <tr>\n",
       "      <th>4</th>\n",
       "      <td>0.297453</td>\n",
       "      <td>0.027507</td>\n",
       "      <td>0.939754</td>\n",
       "    </tr>\n",
       "  </tbody>\n",
       "</table>\n",
       "</div>"
      ],
      "text/plain": [
       "          A         B         C\n",
       "0  0.510485  0.310361  0.434619\n",
       "1  0.007353  0.173362  0.069437\n",
       "2  0.045508  0.979067  0.262671\n",
       "3  0.305224  0.105218  0.148749\n",
       "4  0.297453  0.027507  0.939754"
      ]
     },
     "execution_count": 79,
     "metadata": {},
     "output_type": "execute_result"
    }
   ],
   "source": [
    "df = pd.DataFrame(np.random.rand(1000, 3), columns=['A', 'B', 'C'])\n",
    "df.head()"
   ]
  },
  {
   "cell_type": "code",
   "execution_count": 80,
   "id": "bd568613",
   "metadata": {},
   "outputs": [
    {
     "data": {
      "text/plain": [
       "0      0.820847\n",
       "1      0.180715\n",
       "2      1.024574\n",
       "3      0.410442\n",
       "4      0.324960\n",
       "         ...   \n",
       "995    1.177996\n",
       "996    1.730732\n",
       "997    0.650962\n",
       "998    1.754465\n",
       "999    0.249560\n",
       "Length: 1000, dtype: float64"
      ]
     },
     "execution_count": 80,
     "metadata": {},
     "output_type": "execute_result"
    }
   ],
   "source": [
    "pd.eval('(df.A+df.B)')"
   ]
  },
  {
   "cell_type": "code",
   "execution_count": null,
   "id": "dea6c160",
   "metadata": {},
   "outputs": [],
   "source": []
  }
 ],
 "metadata": {
  "kernelspec": {
   "display_name": "Python 3 (ipykernel)",
   "language": "python",
   "name": "python3"
  },
  "language_info": {
   "codemirror_mode": {
    "name": "ipython",
    "version": 3
   },
   "file_extension": ".py",
   "mimetype": "text/x-python",
   "name": "python",
   "nbconvert_exporter": "python",
   "pygments_lexer": "ipython3",
   "version": "3.10.12"
  }
 },
 "nbformat": 4,
 "nbformat_minor": 5
}
